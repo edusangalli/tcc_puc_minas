{
  "nbformat": 4,
  "nbformat_minor": 0,
  "metadata": {
    "colab": {
      "name": "tcc_puc_minas.ipynb",
      "provenance": [],
      "collapsed_sections": [
        "HMfukIjTJpKz",
        "HHnF4ZT1M2xY",
        "zE84DYrjORti",
        "BsYlhuA3OoOi",
        "lKjP6fCGOtZd",
        "FP2ygq36fUBT",
        "0NMPbNbJxCUa"
      ],
      "toc_visible": true,
      "authorship_tag": "ABX9TyMgRSYYvwKZxSM0hX3fFora",
      "include_colab_link": true
    },
    "kernelspec": {
      "name": "python3",
      "display_name": "Python 3"
    },
    "language_info": {
      "name": "python"
    }
  },
  "cells": [
    {
      "cell_type": "markdown",
      "metadata": {
        "id": "view-in-github",
        "colab_type": "text"
      },
      "source": [
        "<a href=\"https://colab.research.google.com/github/edusangalli/tcc_puc_minas/blob/main/tcc_puc_minas.ipynb\" target=\"_parent\"><img src=\"https://colab.research.google.com/assets/colab-badge.svg\" alt=\"Open In Colab\"/></a>"
      ]
    },
    {
      "cell_type": "markdown",
      "metadata": {
        "id": "9ei7OIOwFX6f"
      },
      "source": [
        "# **Previsão de Vendas**"
      ]
    },
    {
      "cell_type": "markdown",
      "metadata": {
        "id": "a9FdP5icFisU"
      },
      "source": [
        "# **Sumário**"
      ]
    },
    {
      "cell_type": "markdown",
      "metadata": {
        "id": "6Gmn86YxHAGz"
      },
      "source": [
        "# **1. Introdução**"
      ]
    },
    {
      "cell_type": "markdown",
      "metadata": {
        "id": "YnCyigFdHQvf"
      },
      "source": [
        "Trabalho de conclusão de curso PUC-Minas. Previsão de vendas utilizando base do kaggle. Utlizaremos os dados dos anos 2013 e 2014 para prever a venda do ano de 2015."
      ]
    },
    {
      "cell_type": "markdown",
      "metadata": {
        "id": "UwYyyXcueUMb"
      },
      "source": [
        "# **2. Coleta de Dados**"
      ]
    },
    {
      "cell_type": "markdown",
      "metadata": {
        "id": "Zb_l9EpxcRvK"
      },
      "source": [
        "## 2.1 Instalação de Bibliotecas\n",
        "\n"
      ]
    },
    {
      "cell_type": "code",
      "metadata": {
        "colab": {
          "base_uri": "https://localhost:8080/"
        },
        "id": "f-XiFryncXkd",
        "outputId": "f75c571b-5ab0-4a14-9355-7532bbd6467c"
      },
      "source": [
        "!pip install googletrans==3.1.0a0"
      ],
      "execution_count": 1,
      "outputs": [
        {
          "output_type": "stream",
          "text": [
            "Requirement already satisfied: googletrans==3.1.0a0 in /usr/local/lib/python3.7/dist-packages (3.1.0a0)\n",
            "Requirement already satisfied: httpx==0.13.3 in /usr/local/lib/python3.7/dist-packages (from googletrans==3.1.0a0) (0.13.3)\n",
            "Requirement already satisfied: certifi in /usr/local/lib/python3.7/dist-packages (from httpx==0.13.3->googletrans==3.1.0a0) (2021.5.30)\n",
            "Requirement already satisfied: hstspreload in /usr/local/lib/python3.7/dist-packages (from httpx==0.13.3->googletrans==3.1.0a0) (2021.8.1)\n",
            "Requirement already satisfied: httpcore==0.9.* in /usr/local/lib/python3.7/dist-packages (from httpx==0.13.3->googletrans==3.1.0a0) (0.9.1)\n",
            "Requirement already satisfied: chardet==3.* in /usr/local/lib/python3.7/dist-packages (from httpx==0.13.3->googletrans==3.1.0a0) (3.0.4)\n",
            "Requirement already satisfied: rfc3986<2,>=1.3 in /usr/local/lib/python3.7/dist-packages (from httpx==0.13.3->googletrans==3.1.0a0) (1.5.0)\n",
            "Requirement already satisfied: idna==2.* in /usr/local/lib/python3.7/dist-packages (from httpx==0.13.3->googletrans==3.1.0a0) (2.10)\n",
            "Requirement already satisfied: sniffio in /usr/local/lib/python3.7/dist-packages (from httpx==0.13.3->googletrans==3.1.0a0) (1.2.0)\n",
            "Requirement already satisfied: h11<0.10,>=0.8 in /usr/local/lib/python3.7/dist-packages (from httpcore==0.9.*->httpx==0.13.3->googletrans==3.1.0a0) (0.9.0)\n",
            "Requirement already satisfied: h2==3.* in /usr/local/lib/python3.7/dist-packages (from httpcore==0.9.*->httpx==0.13.3->googletrans==3.1.0a0) (3.2.0)\n",
            "Requirement already satisfied: hpack<4,>=3.0 in /usr/local/lib/python3.7/dist-packages (from h2==3.*->httpcore==0.9.*->httpx==0.13.3->googletrans==3.1.0a0) (3.0.0)\n",
            "Requirement already satisfied: hyperframe<6,>=5.2.0 in /usr/local/lib/python3.7/dist-packages (from h2==3.*->httpcore==0.9.*->httpx==0.13.3->googletrans==3.1.0a0) (5.2.0)\n"
          ],
          "name": "stdout"
        }
      ]
    },
    {
      "cell_type": "markdown",
      "metadata": {
        "id": "rLpBMqjtcVL_"
      },
      "source": [
        "## 2.2 Importar Bibliotecas\n",
        "\n"
      ]
    },
    {
      "cell_type": "code",
      "metadata": {
        "id": "PZOc-Mchboln",
        "colab": {
          "base_uri": "https://localhost:8080/"
        },
        "outputId": "1ec1e2cd-a41e-4fbf-bb4f-c90de340f0c2"
      },
      "source": [
        "# Basicas\n",
        "import numpy as np \n",
        "import pandas as pd \n",
        "import time\n",
        "from math import sqrt\n",
        "\n",
        "# Gráficas\n",
        "import matplotlib.pyplot as plt\n",
        "import seaborn as sns\n",
        "from fbprophet.plot import add_changepoints_to_plot\n",
        "from statsmodels.tsa.seasonal import seasonal_decompose\n",
        "from statsmodels.tsa.stattools import adfuller\n",
        "from statsmodels.graphics.tsaplots import plot_acf, plot_pacf\n",
        "\n",
        "# Séries Temporais\n",
        "from fbprophet import Prophet\n",
        "from fbprophet.diagnostics import cross_validation\n",
        "from fbprophet.diagnostics import performance_metrics\n",
        "\n",
        "# Tradução\n",
        "from googletrans import Translator\n",
        "\n",
        "# Retira Advertencias\n",
        "#%matplotlib inline\n",
        "import warnings\n",
        "warnings.filterwarnings(\"ignore\")\n",
        "\n"
      ],
      "execution_count": 2,
      "outputs": [
        {
          "output_type": "stream",
          "text": [
            "/usr/local/lib/python3.7/dist-packages/statsmodels/tools/_testing.py:19: FutureWarning:\n",
            "\n",
            "pandas.util.testing is deprecated. Use the functions in the public API at pandas.testing instead.\n",
            "\n"
          ],
          "name": "stderr"
        }
      ]
    },
    {
      "cell_type": "markdown",
      "metadata": {
        "id": "yFZpL6vwIFcW"
      },
      "source": [
        "## 2.3 Funções"
      ]
    },
    {
      "cell_type": "code",
      "metadata": {
        "id": "C7yg1FKhH3bp"
      },
      "source": [
        "# Função de tradução do Russo Para Português\n",
        "tradutor = Translator()\n",
        "def traduzir(value):\n",
        "    td = tradutor.translate(value, src=\"ru\", dest=\"pt\")\n",
        "    return td.text"
      ],
      "execution_count": 3,
      "outputs": []
    },
    {
      "cell_type": "code",
      "metadata": {
        "id": "t5USOli0Mi9M"
      },
      "source": [
        "def test_stationarity(timeseries):\n",
        "    \n",
        "    #Teste Dickey-Fuller:\n",
        "    print('Resultado do teste de Dickey-Fuller:')\n",
        "    dftest = adfuller(timeseries, autolag='AIC')\n",
        "    dfoutput = pd.Series(dftest[0:4], index=['Test Statistic','p-value','#Lags Used','Number of Observations Used'])\n",
        "    for key,value in dftest[4].items():\n",
        "        dfoutput['Critical Value (%s)'%key] = value\n",
        "    print (dfoutput)"
      ],
      "execution_count": 4,
      "outputs": []
    },
    {
      "cell_type": "markdown",
      "metadata": {
        "id": "HMfukIjTJpKz"
      },
      "source": [
        "## 2.4 Importar Dados"
      ]
    },
    {
      "cell_type": "code",
      "metadata": {
        "id": "a6d2zIyPdOhJ"
      },
      "source": [
        "# Coleta de dados\n",
        "data_url = 'https://github.com/edusangalli/tcc_puc_minas/blob/main/dados/'\n",
        "\n",
        "lojas_df          = pd.read_csv(data_url + 'shops.csv?raw=true')                                                                 # Lojas\n",
        "categorias_df     = pd.read_csv(data_url + 'item_categories.csv?raw=true')                                                       # Categorias\n",
        "itens_df          = pd.read_csv(data_url + 'items.csv.zip?raw=true', compression='zip', header=0, sep=',', quotechar='\"')        # Itens\n",
        "vendas_df         = pd.read_csv(data_url + 'sales_train.csv.zip?raw=true', compression='zip', header=0, sep=',', quotechar='\"')  # Vendas Treino\n"
      ],
      "execution_count": 5,
      "outputs": []
    },
    {
      "cell_type": "code",
      "metadata": {
        "colab": {
          "base_uri": "https://localhost:8080/"
        },
        "id": "LSQrO6YkocIs",
        "outputId": "fcd6de84-510d-4bb8-a1c3-e76e87c00b66"
      },
      "source": [
        "#Tamanho dos datasets\n",
        "print('---------Lojas----------')\n",
        "print(lojas_df.shape)\n",
        "print('---------Itens----------')\n",
        "print(itens_df.shape)\n",
        "print('---------Categorias----------')\n",
        "print(categorias_df.shape)\n",
        "print('---------Vendas----------')\n",
        "print(vendas_df.shape)\n",
        "#print('---------Vendas Teste----------')\n",
        "#print(vendas_teste_df.shape)"
      ],
      "execution_count": 6,
      "outputs": [
        {
          "output_type": "stream",
          "text": [
            "---------Lojas----------\n",
            "(60, 2)\n",
            "---------Itens----------\n",
            "(22170, 3)\n",
            "---------Categorias----------\n",
            "(84, 2)\n",
            "---------Vendas----------\n",
            "(2935849, 6)\n"
          ],
          "name": "stdout"
        }
      ]
    },
    {
      "cell_type": "markdown",
      "metadata": {
        "id": "ki5jqn9Zlkbo"
      },
      "source": [
        "# **3. Processamento/Tratamento dos dados**"
      ]
    },
    {
      "cell_type": "markdown",
      "metadata": {
        "id": "HHnF4ZT1M2xY"
      },
      "source": [
        "## 3.1 Análise do Dataset de Lojas"
      ]
    },
    {
      "cell_type": "markdown",
      "metadata": {
        "id": "NGbwQUS9XMXP"
      },
      "source": [
        "### 3.1.1 Informações"
      ]
    },
    {
      "cell_type": "code",
      "metadata": {
        "colab": {
          "base_uri": "https://localhost:8080/"
        },
        "id": "iPYMHraeNqql",
        "outputId": "8e11c213-92bd-446e-f118-034f148ecd84"
      },
      "source": [
        "print('---------Lojas----------')\n",
        "lojas_df.info()"
      ],
      "execution_count": 7,
      "outputs": [
        {
          "output_type": "stream",
          "text": [
            "---------Lojas----------\n",
            "<class 'pandas.core.frame.DataFrame'>\n",
            "RangeIndex: 60 entries, 0 to 59\n",
            "Data columns (total 2 columns):\n",
            " #   Column     Non-Null Count  Dtype \n",
            "---  ------     --------------  ----- \n",
            " 0   shop_name  60 non-null     object\n",
            " 1   shop_id    60 non-null     int64 \n",
            "dtypes: int64(1), object(1)\n",
            "memory usage: 1.1+ KB\n"
          ],
          "name": "stdout"
        }
      ]
    },
    {
      "cell_type": "markdown",
      "metadata": {
        "id": "KQT8JZDclOQO"
      },
      "source": [
        "Podemos verificar que o dataset não possuem dados nulos e que as colunas estão no tipos corretos, alfanuméricos e inteiro"
      ]
    },
    {
      "cell_type": "code",
      "metadata": {
        "colab": {
          "base_uri": "https://localhost:8080/",
          "height": 204
        },
        "id": "quncGEIIkskf",
        "outputId": "db3a04a9-f08d-45ec-a6f0-94875b17b3cc"
      },
      "source": [
        "# Observar os primeiros registros\n",
        "lojas_df.head()"
      ],
      "execution_count": 8,
      "outputs": [
        {
          "output_type": "execute_result",
          "data": {
            "text/html": [
              "<div>\n",
              "<style scoped>\n",
              "    .dataframe tbody tr th:only-of-type {\n",
              "        vertical-align: middle;\n",
              "    }\n",
              "\n",
              "    .dataframe tbody tr th {\n",
              "        vertical-align: top;\n",
              "    }\n",
              "\n",
              "    .dataframe thead th {\n",
              "        text-align: right;\n",
              "    }\n",
              "</style>\n",
              "<table border=\"1\" class=\"dataframe\">\n",
              "  <thead>\n",
              "    <tr style=\"text-align: right;\">\n",
              "      <th></th>\n",
              "      <th>shop_name</th>\n",
              "      <th>shop_id</th>\n",
              "    </tr>\n",
              "  </thead>\n",
              "  <tbody>\n",
              "    <tr>\n",
              "      <th>0</th>\n",
              "      <td>!Якутск Орджоникидзе, 56 фран</td>\n",
              "      <td>0</td>\n",
              "    </tr>\n",
              "    <tr>\n",
              "      <th>1</th>\n",
              "      <td>!Якутск ТЦ \"Центральный\" фран</td>\n",
              "      <td>1</td>\n",
              "    </tr>\n",
              "    <tr>\n",
              "      <th>2</th>\n",
              "      <td>Адыгея ТЦ \"Мега\"</td>\n",
              "      <td>2</td>\n",
              "    </tr>\n",
              "    <tr>\n",
              "      <th>3</th>\n",
              "      <td>Балашиха ТРК \"Октябрь-Киномир\"</td>\n",
              "      <td>3</td>\n",
              "    </tr>\n",
              "    <tr>\n",
              "      <th>4</th>\n",
              "      <td>Волжский ТЦ \"Волга Молл\"</td>\n",
              "      <td>4</td>\n",
              "    </tr>\n",
              "  </tbody>\n",
              "</table>\n",
              "</div>"
            ],
            "text/plain": [
              "                        shop_name  shop_id\n",
              "0   !Якутск Орджоникидзе, 56 фран        0\n",
              "1   !Якутск ТЦ \"Центральный\" фран        1\n",
              "2                Адыгея ТЦ \"Мега\"        2\n",
              "3  Балашиха ТРК \"Октябрь-Киномир\"        3\n",
              "4        Волжский ТЦ \"Волга Молл\"        4"
            ]
          },
          "metadata": {
            "tags": []
          },
          "execution_count": 8
        }
      ]
    },
    {
      "cell_type": "markdown",
      "metadata": {
        "id": "q-cu22oRXUO2"
      },
      "source": [
        "### 3.1.2 Tradução\n",
        "\n"
      ]
    },
    {
      "cell_type": "markdown",
      "metadata": {
        "id": "4v-dARAAQf6n"
      },
      "source": [
        "Podemos notar que nome da lojas não estão em Português."
      ]
    },
    {
      "cell_type": "code",
      "metadata": {
        "colab": {
          "base_uri": "https://localhost:8080/",
          "height": 35
        },
        "id": "b3mq72Lwp0MQ",
        "outputId": "af0133ea-ba7c-4bae-d5c6-f8fe40a69073"
      },
      "source": [
        "# Confirmando o idioma do nome de lojas\n",
        "str(tradutor.detect(lojas_df['shop_name'].loc[1]))"
      ],
      "execution_count": 9,
      "outputs": [
        {
          "output_type": "execute_result",
          "data": {
            "application/vnd.google.colaboratory.intrinsic+json": {
              "type": "string"
            },
            "text/plain": [
              "'Detected(lang=ru, confidence=1)'"
            ]
          },
          "metadata": {
            "tags": []
          },
          "execution_count": 9
        }
      ]
    },
    {
      "cell_type": "markdown",
      "metadata": {
        "id": "UKXmvt6ARVpR"
      },
      "source": [
        "Após a confirmação do idioma Russo podemos passar para tradução e adição de uma nova coluna no dataset com o idioma traduzido para o portugues."
      ]
    },
    {
      "cell_type": "code",
      "metadata": {
        "colab": {
          "base_uri": "https://localhost:8080/"
        },
        "id": "aSzqD1i5s4WA",
        "outputId": "9fb0c2e5-b2a3-480a-b38a-9d99ef54f380"
      },
      "source": [
        "# Comentado a tradução e carregado arquivo já traduzido por questão de tempo de processamento.\n",
        "#lojas_df[\"shop_name_pt\"] = lojas_df.shop_name.map(traduzir)\n",
        "lojas_df          = pd.read_csv(data_url + 'shops_traduzidas_df.csv?raw=true')                                                      \n",
        "print(lojas_df.head())"
      ],
      "execution_count": 10,
      "outputs": [
        {
          "output_type": "stream",
          "text": [
            "                        shop_name  ...                            shop_name_pt\n",
            "0   !Якутск Орджоникидзе, 56 фран  ...     ! Yakutsk Ordzhonikidze, 56 francos\n",
            "1   !Якутск ТЦ \"Центральный\" фран  ...             ! Yakutsk TC fran \"Central\"\n",
            "2                Адыгея ТЦ \"Мега\"  ...          Centro comercial Adygea \"Mega\"\n",
            "3  Балашиха ТРК \"Октябрь-Киномир\"  ...        Balashikha TRK \"Outubro-Kinomir\"\n",
            "4        Волжский ТЦ \"Волга Молл\"  ...  Centro comercial Volzhsky \"Volga Mall\"\n",
            "\n",
            "[5 rows x 3 columns]\n"
          ],
          "name": "stdout"
        }
      ]
    },
    {
      "cell_type": "markdown",
      "metadata": {
        "id": "2uhpvd0HWSEj"
      },
      "source": [
        "### 3.1.3 Registros duplicados"
      ]
    },
    {
      "cell_type": "code",
      "metadata": {
        "colab": {
          "base_uri": "https://localhost:8080/",
          "height": 297
        },
        "id": "-1zCXBe1veXG",
        "outputId": "89d42aa8-3671-4442-f900-1eacd0f42f87"
      },
      "source": [
        "lojas_df.loc[[0,57,1,58,10,11,39,40]]"
      ],
      "execution_count": 11,
      "outputs": [
        {
          "output_type": "execute_result",
          "data": {
            "text/html": [
              "<div>\n",
              "<style scoped>\n",
              "    .dataframe tbody tr th:only-of-type {\n",
              "        vertical-align: middle;\n",
              "    }\n",
              "\n",
              "    .dataframe tbody tr th {\n",
              "        vertical-align: top;\n",
              "    }\n",
              "\n",
              "    .dataframe thead th {\n",
              "        text-align: right;\n",
              "    }\n",
              "</style>\n",
              "<table border=\"1\" class=\"dataframe\">\n",
              "  <thead>\n",
              "    <tr style=\"text-align: right;\">\n",
              "      <th></th>\n",
              "      <th>shop_name</th>\n",
              "      <th>shop_id</th>\n",
              "      <th>shop_name_pt</th>\n",
              "    </tr>\n",
              "  </thead>\n",
              "  <tbody>\n",
              "    <tr>\n",
              "      <th>0</th>\n",
              "      <td>!Якутск Орджоникидзе, 56 фран</td>\n",
              "      <td>0</td>\n",
              "      <td>! Yakutsk Ordzhonikidze, 56 francos</td>\n",
              "    </tr>\n",
              "    <tr>\n",
              "      <th>57</th>\n",
              "      <td>Якутск Орджоникидзе, 56</td>\n",
              "      <td>57</td>\n",
              "      <td>Yakutsk Ordzhonikidze, 56</td>\n",
              "    </tr>\n",
              "    <tr>\n",
              "      <th>1</th>\n",
              "      <td>!Якутск ТЦ \"Центральный\" фран</td>\n",
              "      <td>1</td>\n",
              "      <td>! Yakutsk TC fran \"Central\"</td>\n",
              "    </tr>\n",
              "    <tr>\n",
              "      <th>58</th>\n",
              "      <td>Якутск ТЦ \"Центральный\"</td>\n",
              "      <td>58</td>\n",
              "      <td>Yakutsk TC \"Central\"</td>\n",
              "    </tr>\n",
              "    <tr>\n",
              "      <th>10</th>\n",
              "      <td>Жуковский ул. Чкалова 39м?</td>\n",
              "      <td>10</td>\n",
              "      <td>Zhukovsky st. Chkalov 39m?</td>\n",
              "    </tr>\n",
              "    <tr>\n",
              "      <th>11</th>\n",
              "      <td>Жуковский ул. Чкалова 39м²</td>\n",
              "      <td>11</td>\n",
              "      <td>Zhukovsky st. Chkalov 39m²</td>\n",
              "    </tr>\n",
              "    <tr>\n",
              "      <th>39</th>\n",
              "      <td>РостовНаДону ТРК \"Мегацентр Горизонт\"</td>\n",
              "      <td>39</td>\n",
              "      <td>Rostov em Don TRK \"Megacenter Horizon\"</td>\n",
              "    </tr>\n",
              "    <tr>\n",
              "      <th>40</th>\n",
              "      <td>РостовНаДону ТРК \"Мегацентр Горизонт\" Островной</td>\n",
              "      <td>40</td>\n",
              "      <td>Rostov em Don TRC \"Megacenter Horizon\" Ostrovnoy</td>\n",
              "    </tr>\n",
              "  </tbody>\n",
              "</table>\n",
              "</div>"
            ],
            "text/plain": [
              "                                          shop_name  ...                                      shop_name_pt\n",
              "0                     !Якутск Орджоникидзе, 56 фран  ...               ! Yakutsk Ordzhonikidze, 56 francos\n",
              "57                          Якутск Орджоникидзе, 56  ...                         Yakutsk Ordzhonikidze, 56\n",
              "1                     !Якутск ТЦ \"Центральный\" фран  ...                       ! Yakutsk TC fran \"Central\"\n",
              "58                          Якутск ТЦ \"Центральный\"  ...                              Yakutsk TC \"Central\"\n",
              "10                       Жуковский ул. Чкалова 39м?  ...                        Zhukovsky st. Chkalov 39m?\n",
              "11                       Жуковский ул. Чкалова 39м²  ...                        Zhukovsky st. Chkalov 39m²\n",
              "39            РостовНаДону ТРК \"Мегацентр Горизонт\"  ...            Rostov em Don TRK \"Megacenter Horizon\"\n",
              "40  РостовНаДону ТРК \"Мегацентр Горизонт\" Островной  ...  Rostov em Don TRC \"Megacenter Horizon\" Ostrovnoy\n",
              "\n",
              "[8 rows x 3 columns]"
            ]
          },
          "metadata": {
            "tags": []
          },
          "execution_count": 11
        }
      ]
    },
    {
      "cell_type": "code",
      "metadata": {
        "id": "iN83rzPHRhfS"
      },
      "source": [
        "#lojas_df.loc[[0,1,10,39]].drop"
      ],
      "execution_count": 12,
      "outputs": []
    },
    {
      "cell_type": "markdown",
      "metadata": {
        "id": "zE84DYrjORti"
      },
      "source": [
        "## 3.2 Análise do Dataset de Categorias"
      ]
    },
    {
      "cell_type": "markdown",
      "metadata": {
        "id": "UQZILRKWYQPB"
      },
      "source": [
        "### 3.2.1 Informações"
      ]
    },
    {
      "cell_type": "code",
      "metadata": {
        "colab": {
          "base_uri": "https://localhost:8080/"
        },
        "id": "0JSiGIMpjg_I",
        "outputId": "14b55c16-ffb5-4611-aa50-d49726c54906"
      },
      "source": [
        "print('---------Categorias----------')\n",
        "categorias_df.info()"
      ],
      "execution_count": 13,
      "outputs": [
        {
          "output_type": "stream",
          "text": [
            "---------Categorias----------\n",
            "<class 'pandas.core.frame.DataFrame'>\n",
            "RangeIndex: 84 entries, 0 to 83\n",
            "Data columns (total 2 columns):\n",
            " #   Column              Non-Null Count  Dtype \n",
            "---  ------              --------------  ----- \n",
            " 0   item_category_name  84 non-null     object\n",
            " 1   item_category_id    84 non-null     int64 \n",
            "dtypes: int64(1), object(1)\n",
            "memory usage: 1.4+ KB\n"
          ],
          "name": "stdout"
        }
      ]
    },
    {
      "cell_type": "markdown",
      "metadata": {
        "id": "0jcRCXWyjltV"
      },
      "source": [
        "Podemos verificar que o dataset não possuem dados nulos e que as colunas estão no tipos corretos, alfanumérico e inteiro."
      ]
    },
    {
      "cell_type": "code",
      "metadata": {
        "colab": {
          "base_uri": "https://localhost:8080/"
        },
        "id": "8RFD5-jRmf-Q",
        "outputId": "51b6b439-cbf1-4c3f-8fc5-8ce295776d87"
      },
      "source": [
        "# Observar os primeiros registros\n",
        "print(categorias_df.head())"
      ],
      "execution_count": 14,
      "outputs": [
        {
          "output_type": "stream",
          "text": [
            "        item_category_name  item_category_id\n",
            "0  PC - Гарнитуры/Наушники                 0\n",
            "1         Аксессуары - PS2                 1\n",
            "2         Аксессуары - PS3                 2\n",
            "3         Аксессуары - PS4                 3\n",
            "4         Аксессуары - PSP                 4\n"
          ],
          "name": "stdout"
        }
      ]
    },
    {
      "cell_type": "code",
      "metadata": {
        "colab": {
          "base_uri": "https://localhost:8080/",
          "height": 419
        },
        "id": "uqLXP2lSY1b_",
        "outputId": "b9b5f44d-12c2-44ef-ed19-dcde77c8a135"
      },
      "source": [
        "categorias_df"
      ],
      "execution_count": 15,
      "outputs": [
        {
          "output_type": "execute_result",
          "data": {
            "text/html": [
              "<div>\n",
              "<style scoped>\n",
              "    .dataframe tbody tr th:only-of-type {\n",
              "        vertical-align: middle;\n",
              "    }\n",
              "\n",
              "    .dataframe tbody tr th {\n",
              "        vertical-align: top;\n",
              "    }\n",
              "\n",
              "    .dataframe thead th {\n",
              "        text-align: right;\n",
              "    }\n",
              "</style>\n",
              "<table border=\"1\" class=\"dataframe\">\n",
              "  <thead>\n",
              "    <tr style=\"text-align: right;\">\n",
              "      <th></th>\n",
              "      <th>item_category_name</th>\n",
              "      <th>item_category_id</th>\n",
              "    </tr>\n",
              "  </thead>\n",
              "  <tbody>\n",
              "    <tr>\n",
              "      <th>0</th>\n",
              "      <td>PC - Гарнитуры/Наушники</td>\n",
              "      <td>0</td>\n",
              "    </tr>\n",
              "    <tr>\n",
              "      <th>1</th>\n",
              "      <td>Аксессуары - PS2</td>\n",
              "      <td>1</td>\n",
              "    </tr>\n",
              "    <tr>\n",
              "      <th>2</th>\n",
              "      <td>Аксессуары - PS3</td>\n",
              "      <td>2</td>\n",
              "    </tr>\n",
              "    <tr>\n",
              "      <th>3</th>\n",
              "      <td>Аксессуары - PS4</td>\n",
              "      <td>3</td>\n",
              "    </tr>\n",
              "    <tr>\n",
              "      <th>4</th>\n",
              "      <td>Аксессуары - PSP</td>\n",
              "      <td>4</td>\n",
              "    </tr>\n",
              "    <tr>\n",
              "      <th>...</th>\n",
              "      <td>...</td>\n",
              "      <td>...</td>\n",
              "    </tr>\n",
              "    <tr>\n",
              "      <th>79</th>\n",
              "      <td>Служебные</td>\n",
              "      <td>79</td>\n",
              "    </tr>\n",
              "    <tr>\n",
              "      <th>80</th>\n",
              "      <td>Служебные - Билеты</td>\n",
              "      <td>80</td>\n",
              "    </tr>\n",
              "    <tr>\n",
              "      <th>81</th>\n",
              "      <td>Чистые носители (шпиль)</td>\n",
              "      <td>81</td>\n",
              "    </tr>\n",
              "    <tr>\n",
              "      <th>82</th>\n",
              "      <td>Чистые носители (штучные)</td>\n",
              "      <td>82</td>\n",
              "    </tr>\n",
              "    <tr>\n",
              "      <th>83</th>\n",
              "      <td>Элементы питания</td>\n",
              "      <td>83</td>\n",
              "    </tr>\n",
              "  </tbody>\n",
              "</table>\n",
              "<p>84 rows × 2 columns</p>\n",
              "</div>"
            ],
            "text/plain": [
              "           item_category_name  item_category_id\n",
              "0     PC - Гарнитуры/Наушники                 0\n",
              "1            Аксессуары - PS2                 1\n",
              "2            Аксессуары - PS3                 2\n",
              "3            Аксессуары - PS4                 3\n",
              "4            Аксессуары - PSP                 4\n",
              "..                        ...               ...\n",
              "79                  Служебные                79\n",
              "80         Служебные - Билеты                80\n",
              "81    Чистые носители (шпиль)                81\n",
              "82  Чистые носители (штучные)                82\n",
              "83           Элементы питания                83\n",
              "\n",
              "[84 rows x 2 columns]"
            ]
          },
          "metadata": {
            "tags": []
          },
          "execution_count": 15
        }
      ]
    },
    {
      "cell_type": "markdown",
      "metadata": {
        "id": "kijx8UZszBTV"
      },
      "source": [
        "### 3.2.2 Tradução"
      ]
    },
    {
      "cell_type": "code",
      "metadata": {
        "colab": {
          "base_uri": "https://localhost:8080/"
        },
        "id": "rbYqmNJLzbcE",
        "outputId": "96a37d85-e20a-4377-b807-90a3e1e3659d"
      },
      "source": [
        "# Comentado a tradução e carregado arquivo já traduzido por questão de tempo de processamento.\n",
        "#categorias_df[\"item_category_name_pt\"] = categorias_df.item_category_name.map(traduzir)\n",
        "categorias_df     = pd.read_csv(data_url + 'item_categories_trad.csv?raw=true')                                                       # Categorias\n",
        "print(categorias_df.head())"
      ],
      "execution_count": 16,
      "outputs": [
        {
          "output_type": "stream",
          "text": [
            "        item_category_name  ...                   item_category_name_pt\n",
            "0  PC - Гарнитуры/Наушники  ...  PC - Fones de ouvido / Fones de ouvido\n",
            "1         Аксессуары - PS2  ...                        Acessórios - PS2\n",
            "2         Аксессуары - PS3  ...                        Acessórios - PS3\n",
            "3         Аксессуары - PS4  ...                        Acessórios - PS4\n",
            "4         Аксессуары - PSP  ...                        Acessórios - PSP\n",
            "\n",
            "[5 rows x 3 columns]\n"
          ],
          "name": "stdout"
        }
      ]
    },
    {
      "cell_type": "markdown",
      "metadata": {
        "id": "BsYlhuA3OoOi"
      },
      "source": [
        "## 3.3 Análise do Dataset de Itens"
      ]
    },
    {
      "cell_type": "markdown",
      "metadata": {
        "id": "Imdoat4-eSbD"
      },
      "source": [
        "### 3.3.1 Informações"
      ]
    },
    {
      "cell_type": "code",
      "metadata": {
        "colab": {
          "base_uri": "https://localhost:8080/"
        },
        "id": "y-GU5XnDkPG_",
        "outputId": "b8f1fd9c-7ec4-4ec9-a9cb-2049717bbb5f"
      },
      "source": [
        "print('---------Itens----------')\n",
        "itens_df.info()"
      ],
      "execution_count": 17,
      "outputs": [
        {
          "output_type": "stream",
          "text": [
            "---------Itens----------\n",
            "<class 'pandas.core.frame.DataFrame'>\n",
            "RangeIndex: 22170 entries, 0 to 22169\n",
            "Data columns (total 3 columns):\n",
            " #   Column            Non-Null Count  Dtype \n",
            "---  ------            --------------  ----- \n",
            " 0   item_name         22170 non-null  object\n",
            " 1   item_id           22170 non-null  int64 \n",
            " 2   item_category_id  22170 non-null  int64 \n",
            "dtypes: int64(2), object(1)\n",
            "memory usage: 519.7+ KB\n"
          ],
          "name": "stdout"
        }
      ]
    },
    {
      "cell_type": "markdown",
      "metadata": {
        "id": "YPKtVNYikVot"
      },
      "source": [
        "Podemos verificar que o dataset não possuem dados nulos e que as colunas estão no tipos corretos, alfanumérico e inteiro."
      ]
    },
    {
      "cell_type": "code",
      "metadata": {
        "colab": {
          "base_uri": "https://localhost:8080/"
        },
        "id": "BZ2mKAZUmqyW",
        "outputId": "fee732f1-f9d0-4fbd-f688-5db0c2ec98d3"
      },
      "source": [
        "# Observar os primeiros registros\n",
        "print(itens_df.head())"
      ],
      "execution_count": 18,
      "outputs": [
        {
          "output_type": "stream",
          "text": [
            "                                           item_name  item_id  item_category_id\n",
            "0          ! ВО ВЛАСТИ НАВАЖДЕНИЯ (ПЛАСТ.)         D        0                40\n",
            "1  !ABBYY FineReader 12 Professional Edition Full...        1                76\n",
            "2      ***В ЛУЧАХ СЛАВЫ   (UNV)                    D        2                40\n",
            "3    ***ГОЛУБАЯ ВОЛНА  (Univ)                      D        3                40\n",
            "4        ***КОРОБКА (СТЕКЛО)                       D        4                40\n"
          ],
          "name": "stdout"
        }
      ]
    },
    {
      "cell_type": "markdown",
      "metadata": {
        "id": "UK15vFgZz0wW"
      },
      "source": [
        "No dataset de itens temos o mesmo caso com o nome em Russo."
      ]
    },
    {
      "cell_type": "markdown",
      "metadata": {
        "id": "V6HtKH4Yei7L"
      },
      "source": [
        "### 3.3.2 Tradução"
      ]
    },
    {
      "cell_type": "code",
      "metadata": {
        "colab": {
          "base_uri": "https://localhost:8080/"
        },
        "id": "y3IhAe8yz1Bq",
        "outputId": "e7af7912-28b8-456b-ae1d-cc95475df80f"
      },
      "source": [
        "# Comentado a tradução e carregado arquivo já traduzido por questão de tempo de processamento.\n",
        "#itens_df[\"item_name_pt\"] = itens_df.item_name.map(traduzir)\n",
        "itens_df          = pd.read_csv(data_url + 'itens_traduzidas_df.zip?raw=true', compression='zip', header=0, sep=',', quotechar='\"')        # Itens\n",
        "print(itens_df.head())"
      ],
      "execution_count": 19,
      "outputs": [
        {
          "output_type": "stream",
          "text": [
            "                                           item_name  ...                                       item_name_pt\n",
            "0          ! ВО ВЛАСТИ НАВАЖДЕНИЯ (ПЛАСТ.)         D  ...               ! NO PODER DA NAVEGAÇÃO (PLÁSTICO) D\n",
            "1  !ABBYY FineReader 12 Professional Edition Full...  ...  ! ABBYY FineReader 12 Professional Edition Ful...\n",
            "2      ***В ЛУЧАХ СЛАВЫ   (UNV)                    D  ...                     *** NO FEIXE DA GLÓRIA (UNV) D\n",
            "3    ***ГОЛУБАЯ ВОЛНА  (Univ)                      D  ...                             *** ONDA AZUL (Univ) D\n",
            "4        ***КОРОБКА (СТЕКЛО)                       D  ...                                *** CAIXA (VIDRO) D\n",
            "\n",
            "[5 rows x 4 columns]\n"
          ],
          "name": "stdout"
        }
      ]
    },
    {
      "cell_type": "markdown",
      "metadata": {
        "id": "lKjP6fCGOtZd"
      },
      "source": [
        "## 3.4 Análise do Dataset de Vendas"
      ]
    },
    {
      "cell_type": "markdown",
      "metadata": {
        "id": "FP2ygq36fUBT"
      },
      "source": [
        "### 3.4.1 Informações"
      ]
    },
    {
      "cell_type": "code",
      "metadata": {
        "colab": {
          "base_uri": "https://localhost:8080/"
        },
        "id": "YJer8BISkRyT",
        "outputId": "7a8fcfd2-4c8e-4456-b719-895546f34c7a"
      },
      "source": [
        "print('---------Vendas Treino----------')\n",
        "vendas_df.info()"
      ],
      "execution_count": 20,
      "outputs": [
        {
          "output_type": "stream",
          "text": [
            "---------Vendas Treino----------\n",
            "<class 'pandas.core.frame.DataFrame'>\n",
            "RangeIndex: 2935849 entries, 0 to 2935848\n",
            "Data columns (total 6 columns):\n",
            " #   Column          Dtype  \n",
            "---  ------          -----  \n",
            " 0   date            object \n",
            " 1   date_block_num  int64  \n",
            " 2   shop_id         int64  \n",
            " 3   item_id         int64  \n",
            " 4   item_price      float64\n",
            " 5   item_cnt_day    float64\n",
            "dtypes: float64(2), int64(3), object(1)\n",
            "memory usage: 134.4+ MB\n"
          ],
          "name": "stdout"
        }
      ]
    },
    {
      "cell_type": "markdown",
      "metadata": {
        "id": "AQE3m4xeoO3X"
      },
      "source": [
        "### 3.4.2 Transformar data"
      ]
    },
    {
      "cell_type": "code",
      "metadata": {
        "id": "-BoloNGpoUEF"
      },
      "source": [
        "vendas_df[\"date\"] = pd.to_datetime(vendas_df[\"date\"], format = \"%d.%m.%Y\")"
      ],
      "execution_count": 21,
      "outputs": []
    },
    {
      "cell_type": "code",
      "metadata": {
        "colab": {
          "base_uri": "https://localhost:8080/"
        },
        "id": "eBx3IhRikK2r",
        "outputId": "e34d0159-6b8f-466b-bf54-d39cc106ee28"
      },
      "source": [
        "print('---------Vendas Treino----------')\n",
        "vendas_df.info()"
      ],
      "execution_count": 22,
      "outputs": [
        {
          "output_type": "stream",
          "text": [
            "---------Vendas Treino----------\n",
            "<class 'pandas.core.frame.DataFrame'>\n",
            "RangeIndex: 2935849 entries, 0 to 2935848\n",
            "Data columns (total 6 columns):\n",
            " #   Column          Dtype         \n",
            "---  ------          -----         \n",
            " 0   date            datetime64[ns]\n",
            " 1   date_block_num  int64         \n",
            " 2   shop_id         int64         \n",
            " 3   item_id         int64         \n",
            " 4   item_price      float64       \n",
            " 5   item_cnt_day    float64       \n",
            "dtypes: datetime64[ns](1), float64(2), int64(3)\n",
            "memory usage: 134.4 MB\n"
          ],
          "name": "stdout"
        }
      ]
    },
    {
      "cell_type": "code",
      "metadata": {
        "id": "UQ8w8e4VXmvd"
      },
      "source": [
        "vendas_df[\"ano\"] = pd.DatetimeIndex(vendas_df[\"date\"]).year\n",
        "vendas_df[\"mes\"] = pd.DatetimeIndex(vendas_df[\"date\"], dayfirst=True).month\n",
        "vendas_df[\"dia\"] = pd.DatetimeIndex(vendas_df[\"date\"], dayfirst=True).day"
      ],
      "execution_count": 23,
      "outputs": []
    },
    {
      "cell_type": "code",
      "metadata": {
        "colab": {
          "base_uri": "https://localhost:8080/",
          "height": 204
        },
        "id": "FKV14u7iZBz5",
        "outputId": "02535e71-820b-467b-d1c6-2bdfd3f62592"
      },
      "source": [
        "vendas_df.head()"
      ],
      "execution_count": 24,
      "outputs": [
        {
          "output_type": "execute_result",
          "data": {
            "text/html": [
              "<div>\n",
              "<style scoped>\n",
              "    .dataframe tbody tr th:only-of-type {\n",
              "        vertical-align: middle;\n",
              "    }\n",
              "\n",
              "    .dataframe tbody tr th {\n",
              "        vertical-align: top;\n",
              "    }\n",
              "\n",
              "    .dataframe thead th {\n",
              "        text-align: right;\n",
              "    }\n",
              "</style>\n",
              "<table border=\"1\" class=\"dataframe\">\n",
              "  <thead>\n",
              "    <tr style=\"text-align: right;\">\n",
              "      <th></th>\n",
              "      <th>date</th>\n",
              "      <th>date_block_num</th>\n",
              "      <th>shop_id</th>\n",
              "      <th>item_id</th>\n",
              "      <th>item_price</th>\n",
              "      <th>item_cnt_day</th>\n",
              "      <th>ano</th>\n",
              "      <th>mes</th>\n",
              "      <th>dia</th>\n",
              "    </tr>\n",
              "  </thead>\n",
              "  <tbody>\n",
              "    <tr>\n",
              "      <th>0</th>\n",
              "      <td>2013-01-02</td>\n",
              "      <td>0</td>\n",
              "      <td>59</td>\n",
              "      <td>22154</td>\n",
              "      <td>999.00</td>\n",
              "      <td>1.0</td>\n",
              "      <td>2013</td>\n",
              "      <td>1</td>\n",
              "      <td>2</td>\n",
              "    </tr>\n",
              "    <tr>\n",
              "      <th>1</th>\n",
              "      <td>2013-01-03</td>\n",
              "      <td>0</td>\n",
              "      <td>25</td>\n",
              "      <td>2552</td>\n",
              "      <td>899.00</td>\n",
              "      <td>1.0</td>\n",
              "      <td>2013</td>\n",
              "      <td>1</td>\n",
              "      <td>3</td>\n",
              "    </tr>\n",
              "    <tr>\n",
              "      <th>2</th>\n",
              "      <td>2013-01-05</td>\n",
              "      <td>0</td>\n",
              "      <td>25</td>\n",
              "      <td>2552</td>\n",
              "      <td>899.00</td>\n",
              "      <td>-1.0</td>\n",
              "      <td>2013</td>\n",
              "      <td>1</td>\n",
              "      <td>5</td>\n",
              "    </tr>\n",
              "    <tr>\n",
              "      <th>3</th>\n",
              "      <td>2013-01-06</td>\n",
              "      <td>0</td>\n",
              "      <td>25</td>\n",
              "      <td>2554</td>\n",
              "      <td>1709.05</td>\n",
              "      <td>1.0</td>\n",
              "      <td>2013</td>\n",
              "      <td>1</td>\n",
              "      <td>6</td>\n",
              "    </tr>\n",
              "    <tr>\n",
              "      <th>4</th>\n",
              "      <td>2013-01-15</td>\n",
              "      <td>0</td>\n",
              "      <td>25</td>\n",
              "      <td>2555</td>\n",
              "      <td>1099.00</td>\n",
              "      <td>1.0</td>\n",
              "      <td>2013</td>\n",
              "      <td>1</td>\n",
              "      <td>15</td>\n",
              "    </tr>\n",
              "  </tbody>\n",
              "</table>\n",
              "</div>"
            ],
            "text/plain": [
              "        date  date_block_num  shop_id  item_id  ...  item_cnt_day   ano  mes  dia\n",
              "0 2013-01-02               0       59    22154  ...           1.0  2013    1    2\n",
              "1 2013-01-03               0       25     2552  ...           1.0  2013    1    3\n",
              "2 2013-01-05               0       25     2552  ...          -1.0  2013    1    5\n",
              "3 2013-01-06               0       25     2554  ...           1.0  2013    1    6\n",
              "4 2013-01-15               0       25     2555  ...           1.0  2013    1   15\n",
              "\n",
              "[5 rows x 9 columns]"
            ]
          },
          "metadata": {
            "tags": []
          },
          "execution_count": 24
        }
      ]
    },
    {
      "cell_type": "markdown",
      "metadata": {
        "id": "JFhvtf6zmyaX"
      },
      "source": [
        "### 3.4.3 Visão Geral"
      ]
    },
    {
      "cell_type": "code",
      "metadata": {
        "colab": {
          "base_uri": "https://localhost:8080/",
          "height": 297
        },
        "id": "UTvjRch9kR89",
        "outputId": "cef74fd6-4d30-4e9f-b1b3-f9c2f43f127c"
      },
      "source": [
        "vendas_df[['item_price','item_cnt_day']].describe()"
      ],
      "execution_count": 25,
      "outputs": [
        {
          "output_type": "execute_result",
          "data": {
            "text/html": [
              "<div>\n",
              "<style scoped>\n",
              "    .dataframe tbody tr th:only-of-type {\n",
              "        vertical-align: middle;\n",
              "    }\n",
              "\n",
              "    .dataframe tbody tr th {\n",
              "        vertical-align: top;\n",
              "    }\n",
              "\n",
              "    .dataframe thead th {\n",
              "        text-align: right;\n",
              "    }\n",
              "</style>\n",
              "<table border=\"1\" class=\"dataframe\">\n",
              "  <thead>\n",
              "    <tr style=\"text-align: right;\">\n",
              "      <th></th>\n",
              "      <th>item_price</th>\n",
              "      <th>item_cnt_day</th>\n",
              "    </tr>\n",
              "  </thead>\n",
              "  <tbody>\n",
              "    <tr>\n",
              "      <th>count</th>\n",
              "      <td>2.935849e+06</td>\n",
              "      <td>2.935849e+06</td>\n",
              "    </tr>\n",
              "    <tr>\n",
              "      <th>mean</th>\n",
              "      <td>8.908532e+02</td>\n",
              "      <td>1.242641e+00</td>\n",
              "    </tr>\n",
              "    <tr>\n",
              "      <th>std</th>\n",
              "      <td>1.729800e+03</td>\n",
              "      <td>2.618834e+00</td>\n",
              "    </tr>\n",
              "    <tr>\n",
              "      <th>min</th>\n",
              "      <td>-1.000000e+00</td>\n",
              "      <td>-2.200000e+01</td>\n",
              "    </tr>\n",
              "    <tr>\n",
              "      <th>25%</th>\n",
              "      <td>2.490000e+02</td>\n",
              "      <td>1.000000e+00</td>\n",
              "    </tr>\n",
              "    <tr>\n",
              "      <th>50%</th>\n",
              "      <td>3.990000e+02</td>\n",
              "      <td>1.000000e+00</td>\n",
              "    </tr>\n",
              "    <tr>\n",
              "      <th>75%</th>\n",
              "      <td>9.990000e+02</td>\n",
              "      <td>1.000000e+00</td>\n",
              "    </tr>\n",
              "    <tr>\n",
              "      <th>max</th>\n",
              "      <td>3.079800e+05</td>\n",
              "      <td>2.169000e+03</td>\n",
              "    </tr>\n",
              "  </tbody>\n",
              "</table>\n",
              "</div>"
            ],
            "text/plain": [
              "         item_price  item_cnt_day\n",
              "count  2.935849e+06  2.935849e+06\n",
              "mean   8.908532e+02  1.242641e+00\n",
              "std    1.729800e+03  2.618834e+00\n",
              "min   -1.000000e+00 -2.200000e+01\n",
              "25%    2.490000e+02  1.000000e+00\n",
              "50%    3.990000e+02  1.000000e+00\n",
              "75%    9.990000e+02  1.000000e+00\n",
              "max    3.079800e+05  2.169000e+03"
            ]
          },
          "metadata": {
            "tags": []
          },
          "execution_count": 25
        }
      ]
    },
    {
      "cell_type": "markdown",
      "metadata": {
        "id": "OM0l-GCG1JjZ"
      },
      "source": [
        "### 3.4.4 Tratamos também as lojas duplicadas."
      ]
    },
    {
      "cell_type": "code",
      "metadata": {
        "id": "qKqXU8-9mAtz"
      },
      "source": [
        "vendas_df.loc[vendas_df.shop_id == 0,  'shop_id'] = 57\n",
        "vendas_df.loc[vendas_df.shop_id == 1,  'shop_id'] = 58\n",
        "vendas_df.loc[vendas_df.shop_id == 10, 'shop_id'] = 11\n",
        "vendas_df.loc[vendas_df.shop_id == 39, 'shop_id'] = 40"
      ],
      "execution_count": 26,
      "outputs": []
    },
    {
      "cell_type": "code",
      "metadata": {
        "colab": {
          "base_uri": "https://localhost:8080/"
        },
        "id": "330YtgNPV6K3",
        "outputId": "59e92511-587b-4db8-933a-82ed3b0e872b"
      },
      "source": [
        "indice_duplicados = vendas_df[vendas_df.duplicated()].index\n",
        "print(len(indice_duplicados))\n",
        "if len(indice_duplicados) > 0:\n",
        "  vendas_df.drop(indice_duplicados, inplace=True)"
      ],
      "execution_count": 27,
      "outputs": [
        {
          "output_type": "stream",
          "text": [
            "186\n"
          ],
          "name": "stdout"
        }
      ]
    },
    {
      "cell_type": "markdown",
      "metadata": {
        "id": "UeVtQpK1qI_k"
      },
      "source": [
        "### **3.4.5 Detecção de Outliers**"
      ]
    },
    {
      "cell_type": "code",
      "metadata": {
        "colab": {
          "base_uri": "https://localhost:8080/",
          "height": 266
        },
        "id": "Fdmdrs_Xnt-s",
        "outputId": "2ade0fa3-0ae5-4d6c-ac6d-01edebcfbd19"
      },
      "source": [
        "vendas_df[['item_cnt_day']].boxplot();"
      ],
      "execution_count": 28,
      "outputs": [
        {
          "output_type": "display_data",
          "data": {
            "image/png": "[encoded data removed]",
            "text/plain": [
              "<Figure size 432x288 with 1 Axes>"
            ]
          },
          "metadata": {
            "tags": [],
            "needs_background": "light"
          }
        }
      ]
    },
    {
      "cell_type": "code",
      "metadata": {
        "colab": {
          "base_uri": "https://localhost:8080/",
          "height": 266
        },
        "id": "EhbaLsJ3n4Iy",
        "outputId": "aba5bbc5-0e18-46c0-9ed4-97d33f205266"
      },
      "source": [
        "vendas_df[['item_price']].boxplot();"
      ],
      "execution_count": 29,
      "outputs": [
        {
          "output_type": "display_data",
          "data": {
            "image/png": "[encoded data removed]",
            "text/plain": [
              "<Figure size 432x288 with 1 Axes>"
            ]
          },
          "metadata": {
            "tags": [],
            "needs_background": "light"
          }
        }
      ]
    },
    {
      "cell_type": "code",
      "metadata": {
        "colab": {
          "base_uri": "https://localhost:8080/"
        },
        "id": "r52JqqCU6Isg",
        "outputId": "a5d2a3a9-1d71-49dd-e6e1-71eaf3ad43dd"
      },
      "source": [
        "print('Preço maior que 10000')\n",
        "print(vendas_df[(vendas_df.item_price > 100000) ])\n",
        "print('Preço menor que 0')\n",
        "print(vendas_df[(vendas_df.item_price < 0) ])\n",
        "print('Quantidade maior que 1001')\n",
        "print(vendas_df[vendas_df.item_cnt_day > 1001])"
      ],
      "execution_count": 30,
      "outputs": [
        {
          "output_type": "stream",
          "text": [
            "Preço maior que 10000\n",
            "              date  date_block_num  shop_id  ...   ano  mes  dia\n",
            "1163158 2013-12-13              11       12  ...  2013   12   13\n",
            "\n",
            "[1 rows x 9 columns]\n",
            "Preço menor que 0\n",
            "             date  date_block_num  shop_id  ...   ano  mes  dia\n",
            "484683 2013-05-15               4       32  ...  2013    5   15\n",
            "\n",
            "[1 rows x 9 columns]\n",
            "Quantidade maior que 1001\n",
            "              date  date_block_num  shop_id  ...   ano  mes  dia\n",
            "2909818 2015-10-28              33       12  ...  2015   10   28\n",
            "\n",
            "[1 rows x 9 columns]\n"
          ],
          "name": "stdout"
        }
      ]
    },
    {
      "cell_type": "code",
      "metadata": {
        "id": "U5MSPAh-oHEJ"
      },
      "source": [
        "#mean = vendas_df[(vendas_df[\"shop_id\"] == 32) & (vendas_df[\"item_id\"] == 2973) & (vendas_df[\"date_block_num\"] == 4) & (vendas_df[\"item_price\"] > 0)][\"item_price\"].mean()\n",
        "#vendas_treino_df.loc[vendas_df.item_price < 0, 'item_price'] = mean\n",
        "vendas_df = vendas_df[(vendas_df.item_cnt_day < 1001) & (vendas_df.item_cnt_day > 0)]\n",
        "vendas_df = vendas_df = vendas_df[(vendas_df.item_price < 100000) & (vendas_df.item_price > 0)]"
      ],
      "execution_count": 31,
      "outputs": []
    },
    {
      "cell_type": "markdown",
      "metadata": {
        "id": "xZJCtUed4Pas"
      },
      "source": [
        "### 3.4.6 Total de Vendas"
      ]
    },
    {
      "cell_type": "code",
      "metadata": {
        "colab": {
          "base_uri": "https://localhost:8080/",
          "height": 142
        },
        "id": "iGDIcX0N4XnI",
        "outputId": "1ef2b7f4-aa0a-48ca-c541-ada52d240c3d"
      },
      "source": [
        "vendas_df['total_vendas'] = vendas_df['item_price'] * vendas_df['item_cnt_day']\n",
        "vendas_df.head(3)"
      ],
      "execution_count": 32,
      "outputs": [
        {
          "output_type": "execute_result",
          "data": {
            "text/html": [
              "<div>\n",
              "<style scoped>\n",
              "    .dataframe tbody tr th:only-of-type {\n",
              "        vertical-align: middle;\n",
              "    }\n",
              "\n",
              "    .dataframe tbody tr th {\n",
              "        vertical-align: top;\n",
              "    }\n",
              "\n",
              "    .dataframe thead th {\n",
              "        text-align: right;\n",
              "    }\n",
              "</style>\n",
              "<table border=\"1\" class=\"dataframe\">\n",
              "  <thead>\n",
              "    <tr style=\"text-align: right;\">\n",
              "      <th></th>\n",
              "      <th>date</th>\n",
              "      <th>date_block_num</th>\n",
              "      <th>shop_id</th>\n",
              "      <th>item_id</th>\n",
              "      <th>item_price</th>\n",
              "      <th>item_cnt_day</th>\n",
              "      <th>ano</th>\n",
              "      <th>mes</th>\n",
              "      <th>dia</th>\n",
              "      <th>total_vendas</th>\n",
              "    </tr>\n",
              "  </thead>\n",
              "  <tbody>\n",
              "    <tr>\n",
              "      <th>0</th>\n",
              "      <td>2013-01-02</td>\n",
              "      <td>0</td>\n",
              "      <td>59</td>\n",
              "      <td>22154</td>\n",
              "      <td>999.00</td>\n",
              "      <td>1.0</td>\n",
              "      <td>2013</td>\n",
              "      <td>1</td>\n",
              "      <td>2</td>\n",
              "      <td>999.00</td>\n",
              "    </tr>\n",
              "    <tr>\n",
              "      <th>1</th>\n",
              "      <td>2013-01-03</td>\n",
              "      <td>0</td>\n",
              "      <td>25</td>\n",
              "      <td>2552</td>\n",
              "      <td>899.00</td>\n",
              "      <td>1.0</td>\n",
              "      <td>2013</td>\n",
              "      <td>1</td>\n",
              "      <td>3</td>\n",
              "      <td>899.00</td>\n",
              "    </tr>\n",
              "    <tr>\n",
              "      <th>3</th>\n",
              "      <td>2013-01-06</td>\n",
              "      <td>0</td>\n",
              "      <td>25</td>\n",
              "      <td>2554</td>\n",
              "      <td>1709.05</td>\n",
              "      <td>1.0</td>\n",
              "      <td>2013</td>\n",
              "      <td>1</td>\n",
              "      <td>6</td>\n",
              "      <td>1709.05</td>\n",
              "    </tr>\n",
              "  </tbody>\n",
              "</table>\n",
              "</div>"
            ],
            "text/plain": [
              "        date  date_block_num  shop_id  item_id  ...   ano  mes  dia  total_vendas\n",
              "0 2013-01-02               0       59    22154  ...  2013    1    2        999.00\n",
              "1 2013-01-03               0       25     2552  ...  2013    1    3        899.00\n",
              "3 2013-01-06               0       25     2554  ...  2013    1    6       1709.05\n",
              "\n",
              "[3 rows x 10 columns]"
            ]
          },
          "metadata": {
            "tags": []
          },
          "execution_count": 32
        }
      ]
    },
    {
      "cell_type": "markdown",
      "metadata": {
        "id": "0NMPbNbJxCUa"
      },
      "source": [
        "## **3.5 Juntando os Dados(Merge)**"
      ]
    },
    {
      "cell_type": "code",
      "metadata": {
        "colab": {
          "base_uri": "https://localhost:8080/"
        },
        "id": "mkyWI3T01Tzk",
        "outputId": "0eb2baa6-186f-48f9-9036-ae48aebd1c30"
      },
      "source": [
        "tabelao_df = pd.merge(itens_df, categorias_df, on='item_category_id', how='inner')\n",
        "tabelao_df = pd.merge(vendas_df,tabelao_df, on='item_id', how='inner')\n",
        "tabelao_df = pd.merge(tabelao_df, lojas_df, on='shop_id', how='inner')\n",
        "\n",
        "tabelao_df = tabelao_df.drop(columns=['shop_name','item_category_name','item_name','item_name_pt'])\n",
        "\n",
        "#tabelao_df.set_index('date')\n",
        "tabelao_df.info()\n"
      ],
      "execution_count": 33,
      "outputs": [
        {
          "output_type": "stream",
          "text": [
            "<class 'pandas.core.frame.DataFrame'>\n",
            "Int64Index: 2928304 entries, 0 to 2928303\n",
            "Data columns (total 13 columns):\n",
            " #   Column                 Dtype         \n",
            "---  ------                 -----         \n",
            " 0   date                   datetime64[ns]\n",
            " 1   date_block_num         int64         \n",
            " 2   shop_id                int64         \n",
            " 3   item_id                int64         \n",
            " 4   item_price             float64       \n",
            " 5   item_cnt_day           float64       \n",
            " 6   ano                    int64         \n",
            " 7   mes                    int64         \n",
            " 8   dia                    int64         \n",
            " 9   total_vendas           float64       \n",
            " 10  item_category_id       int64         \n",
            " 11  item_category_name_pt  object        \n",
            " 12  shop_name_pt           object        \n",
            "dtypes: datetime64[ns](1), float64(3), int64(7), object(2)\n",
            "memory usage: 312.8+ MB\n"
          ],
          "name": "stdout"
        }
      ]
    },
    {
      "cell_type": "code",
      "metadata": {
        "id": "nrsOnC5UAWRn",
        "colab": {
          "base_uri": "https://localhost:8080/"
        },
        "outputId": "28b6c74b-ce55-4ddc-9f86-f541050b7e79"
      },
      "source": [
        "tabelao_df.isnull().sum()"
      ],
      "execution_count": 34,
      "outputs": [
        {
          "output_type": "execute_result",
          "data": {
            "text/plain": [
              "date                     0\n",
              "date_block_num           0\n",
              "shop_id                  0\n",
              "item_id                  0\n",
              "item_price               0\n",
              "item_cnt_day             0\n",
              "ano                      0\n",
              "mes                      0\n",
              "dia                      0\n",
              "total_vendas             0\n",
              "item_category_id         0\n",
              "item_category_name_pt    0\n",
              "shop_name_pt             0\n",
              "dtype: int64"
            ]
          },
          "metadata": {
            "tags": []
          },
          "execution_count": 34
        }
      ]
    },
    {
      "cell_type": "code",
      "metadata": {
        "colab": {
          "base_uri": "https://localhost:8080/"
        },
        "id": "gOxZdU2QCHqx",
        "outputId": "66482f93-0480-4b90-8727-d952d0178941"
      },
      "source": [
        "tabelao_df.item_category_name_pt = tabelao_df.item_category_name_pt.astype('category')\n",
        "tabelao_df.date_block_num        = tabelao_df.date_block_num.astype('int32')\n",
        "tabelao_df.shop_id               = tabelao_df.shop_id.astype('int32')\n",
        "tabelao_df.item_id               = tabelao_df.item_id.astype('int32')\n",
        "tabelao_df.info()"
      ],
      "execution_count": 35,
      "outputs": [
        {
          "output_type": "stream",
          "text": [
            "<class 'pandas.core.frame.DataFrame'>\n",
            "Int64Index: 2928304 entries, 0 to 2928303\n",
            "Data columns (total 13 columns):\n",
            " #   Column                 Dtype         \n",
            "---  ------                 -----         \n",
            " 0   date                   datetime64[ns]\n",
            " 1   date_block_num         int32         \n",
            " 2   shop_id                int32         \n",
            " 3   item_id                int32         \n",
            " 4   item_price             float64       \n",
            " 5   item_cnt_day           float64       \n",
            " 6   ano                    int64         \n",
            " 7   mes                    int64         \n",
            " 8   dia                    int64         \n",
            " 9   total_vendas           float64       \n",
            " 10  item_category_id       int64         \n",
            " 11  item_category_name_pt  category      \n",
            " 12  shop_name_pt           object        \n",
            "dtypes: category(1), datetime64[ns](1), float64(3), int32(3), int64(4), object(1)\n",
            "memory usage: 259.7+ MB\n"
          ],
          "name": "stdout"
        }
      ]
    },
    {
      "cell_type": "markdown",
      "metadata": {
        "id": "cRzXD19_yx_x"
      },
      "source": [
        "## 3.6 Dividindo os dados em base de treinamento e de teste"
      ]
    },
    {
      "cell_type": "code",
      "metadata": {
        "colab": {
          "base_uri": "https://localhost:8080/"
        },
        "id": "QQrd6nx-GmvA",
        "outputId": "c8b0d6d7-2930-4892-c693-a91136b241ef"
      },
      "source": [
        "treino_df = tabelao_df[(tabelao_df.date <= '31/12/2014')]\n",
        "teste_df  = tabelao_df[(tabelao_df.date >= '01/01/2015')]\n",
        "treino_df.info()"
      ],
      "execution_count": 36,
      "outputs": [
        {
          "output_type": "stream",
          "text": [
            "<class 'pandas.core.frame.DataFrame'>\n",
            "Int64Index: 2317533 entries, 0 to 2925111\n",
            "Data columns (total 13 columns):\n",
            " #   Column                 Dtype         \n",
            "---  ------                 -----         \n",
            " 0   date                   datetime64[ns]\n",
            " 1   date_block_num         int32         \n",
            " 2   shop_id                int32         \n",
            " 3   item_id                int32         \n",
            " 4   item_price             float64       \n",
            " 5   item_cnt_day           float64       \n",
            " 6   ano                    int64         \n",
            " 7   mes                    int64         \n",
            " 8   dia                    int64         \n",
            " 9   total_vendas           float64       \n",
            " 10  item_category_id       int64         \n",
            " 11  item_category_name_pt  category      \n",
            " 12  shop_name_pt           object        \n",
            "dtypes: category(1), datetime64[ns](1), float64(3), int32(3), int64(4), object(1)\n",
            "memory usage: 205.5+ MB\n"
          ],
          "name": "stdout"
        }
      ]
    },
    {
      "cell_type": "markdown",
      "metadata": {
        "id": "wMP43A2DMSb9"
      },
      "source": [
        "# **4. Análise e Exploração dos Dados**"
      ]
    },
    {
      "cell_type": "markdown",
      "metadata": {
        "id": "I5WcBh5jJ4aw"
      },
      "source": [
        "Não analisaremos por itens pois vemos que os itens costumam ter uma vida útil e nossa estratégia é analisar o total de vendas de uma forma mais macro. "
      ]
    },
    {
      "cell_type": "code",
      "metadata": {
        "colab": {
          "base_uri": "https://localhost:8080/",
          "height": 481
        },
        "id": "DxGifqGDJl41",
        "outputId": "e5e4b94c-4ccf-48d1-b3c5-e376f14d7b51"
      },
      "source": [
        "treino_df.pivot_table(index = ['item_id'],values = ['item_cnt_day'],columns = ['date_block_num'],fill_value = 0,aggfunc='sum')"
      ],
      "execution_count": 37,
      "outputs": [
        {
          "output_type": "execute_result",
          "data": {
            "text/html": [
              "<div>\n",
              "<style scoped>\n",
              "    .dataframe tbody tr th:only-of-type {\n",
              "        vertical-align: middle;\n",
              "    }\n",
              "\n",
              "    .dataframe tbody tr th {\n",
              "        vertical-align: top;\n",
              "    }\n",
              "\n",
              "    .dataframe thead tr th {\n",
              "        text-align: left;\n",
              "    }\n",
              "\n",
              "    .dataframe thead tr:last-of-type th {\n",
              "        text-align: right;\n",
              "    }\n",
              "</style>\n",
              "<table border=\"1\" class=\"dataframe\">\n",
              "  <thead>\n",
              "    <tr>\n",
              "      <th></th>\n",
              "      <th colspan=\"24\" halign=\"left\">item_cnt_day</th>\n",
              "    </tr>\n",
              "    <tr>\n",
              "      <th>date_block_num</th>\n",
              "      <th>0</th>\n",
              "      <th>1</th>\n",
              "      <th>2</th>\n",
              "      <th>3</th>\n",
              "      <th>4</th>\n",
              "      <th>5</th>\n",
              "      <th>6</th>\n",
              "      <th>7</th>\n",
              "      <th>8</th>\n",
              "      <th>9</th>\n",
              "      <th>10</th>\n",
              "      <th>11</th>\n",
              "      <th>12</th>\n",
              "      <th>13</th>\n",
              "      <th>14</th>\n",
              "      <th>15</th>\n",
              "      <th>16</th>\n",
              "      <th>17</th>\n",
              "      <th>18</th>\n",
              "      <th>19</th>\n",
              "      <th>20</th>\n",
              "      <th>21</th>\n",
              "      <th>22</th>\n",
              "      <th>23</th>\n",
              "    </tr>\n",
              "    <tr>\n",
              "      <th>item_id</th>\n",
              "      <th></th>\n",
              "      <th></th>\n",
              "      <th></th>\n",
              "      <th></th>\n",
              "      <th></th>\n",
              "      <th></th>\n",
              "      <th></th>\n",
              "      <th></th>\n",
              "      <th></th>\n",
              "      <th></th>\n",
              "      <th></th>\n",
              "      <th></th>\n",
              "      <th></th>\n",
              "      <th></th>\n",
              "      <th></th>\n",
              "      <th></th>\n",
              "      <th></th>\n",
              "      <th></th>\n",
              "      <th></th>\n",
              "      <th></th>\n",
              "      <th></th>\n",
              "      <th></th>\n",
              "      <th></th>\n",
              "      <th></th>\n",
              "    </tr>\n",
              "  </thead>\n",
              "  <tbody>\n",
              "    <tr>\n",
              "      <th>0</th>\n",
              "      <td>0</td>\n",
              "      <td>0</td>\n",
              "      <td>0</td>\n",
              "      <td>0</td>\n",
              "      <td>0</td>\n",
              "      <td>0</td>\n",
              "      <td>0</td>\n",
              "      <td>0</td>\n",
              "      <td>0</td>\n",
              "      <td>0</td>\n",
              "      <td>0</td>\n",
              "      <td>0</td>\n",
              "      <td>0</td>\n",
              "      <td>0</td>\n",
              "      <td>0</td>\n",
              "      <td>0</td>\n",
              "      <td>0</td>\n",
              "      <td>0</td>\n",
              "      <td>0</td>\n",
              "      <td>0</td>\n",
              "      <td>1</td>\n",
              "      <td>0</td>\n",
              "      <td>0</td>\n",
              "      <td>0</td>\n",
              "    </tr>\n",
              "    <tr>\n",
              "      <th>1</th>\n",
              "      <td>0</td>\n",
              "      <td>0</td>\n",
              "      <td>0</td>\n",
              "      <td>0</td>\n",
              "      <td>0</td>\n",
              "      <td>0</td>\n",
              "      <td>0</td>\n",
              "      <td>0</td>\n",
              "      <td>0</td>\n",
              "      <td>0</td>\n",
              "      <td>0</td>\n",
              "      <td>0</td>\n",
              "      <td>0</td>\n",
              "      <td>0</td>\n",
              "      <td>0</td>\n",
              "      <td>2</td>\n",
              "      <td>0</td>\n",
              "      <td>0</td>\n",
              "      <td>1</td>\n",
              "      <td>1</td>\n",
              "      <td>1</td>\n",
              "      <td>1</td>\n",
              "      <td>0</td>\n",
              "      <td>0</td>\n",
              "    </tr>\n",
              "    <tr>\n",
              "      <th>2</th>\n",
              "      <td>0</td>\n",
              "      <td>0</td>\n",
              "      <td>0</td>\n",
              "      <td>0</td>\n",
              "      <td>0</td>\n",
              "      <td>0</td>\n",
              "      <td>0</td>\n",
              "      <td>0</td>\n",
              "      <td>0</td>\n",
              "      <td>0</td>\n",
              "      <td>0</td>\n",
              "      <td>0</td>\n",
              "      <td>0</td>\n",
              "      <td>0</td>\n",
              "      <td>0</td>\n",
              "      <td>0</td>\n",
              "      <td>0</td>\n",
              "      <td>0</td>\n",
              "      <td>0</td>\n",
              "      <td>1</td>\n",
              "      <td>0</td>\n",
              "      <td>0</td>\n",
              "      <td>1</td>\n",
              "      <td>0</td>\n",
              "    </tr>\n",
              "    <tr>\n",
              "      <th>3</th>\n",
              "      <td>0</td>\n",
              "      <td>0</td>\n",
              "      <td>0</td>\n",
              "      <td>0</td>\n",
              "      <td>0</td>\n",
              "      <td>0</td>\n",
              "      <td>0</td>\n",
              "      <td>0</td>\n",
              "      <td>0</td>\n",
              "      <td>0</td>\n",
              "      <td>0</td>\n",
              "      <td>0</td>\n",
              "      <td>0</td>\n",
              "      <td>0</td>\n",
              "      <td>0</td>\n",
              "      <td>0</td>\n",
              "      <td>0</td>\n",
              "      <td>0</td>\n",
              "      <td>1</td>\n",
              "      <td>1</td>\n",
              "      <td>0</td>\n",
              "      <td>0</td>\n",
              "      <td>0</td>\n",
              "      <td>0</td>\n",
              "    </tr>\n",
              "    <tr>\n",
              "      <th>4</th>\n",
              "      <td>0</td>\n",
              "      <td>0</td>\n",
              "      <td>0</td>\n",
              "      <td>0</td>\n",
              "      <td>0</td>\n",
              "      <td>0</td>\n",
              "      <td>0</td>\n",
              "      <td>0</td>\n",
              "      <td>0</td>\n",
              "      <td>0</td>\n",
              "      <td>0</td>\n",
              "      <td>0</td>\n",
              "      <td>0</td>\n",
              "      <td>0</td>\n",
              "      <td>0</td>\n",
              "      <td>0</td>\n",
              "      <td>0</td>\n",
              "      <td>0</td>\n",
              "      <td>0</td>\n",
              "      <td>0</td>\n",
              "      <td>1</td>\n",
              "      <td>0</td>\n",
              "      <td>0</td>\n",
              "      <td>0</td>\n",
              "    </tr>\n",
              "    <tr>\n",
              "      <th>...</th>\n",
              "      <td>...</td>\n",
              "      <td>...</td>\n",
              "      <td>...</td>\n",
              "      <td>...</td>\n",
              "      <td>...</td>\n",
              "      <td>...</td>\n",
              "      <td>...</td>\n",
              "      <td>...</td>\n",
              "      <td>...</td>\n",
              "      <td>...</td>\n",
              "      <td>...</td>\n",
              "      <td>...</td>\n",
              "      <td>...</td>\n",
              "      <td>...</td>\n",
              "      <td>...</td>\n",
              "      <td>...</td>\n",
              "      <td>...</td>\n",
              "      <td>...</td>\n",
              "      <td>...</td>\n",
              "      <td>...</td>\n",
              "      <td>...</td>\n",
              "      <td>...</td>\n",
              "      <td>...</td>\n",
              "      <td>...</td>\n",
              "    </tr>\n",
              "    <tr>\n",
              "      <th>22165</th>\n",
              "      <td>0</td>\n",
              "      <td>0</td>\n",
              "      <td>0</td>\n",
              "      <td>0</td>\n",
              "      <td>0</td>\n",
              "      <td>0</td>\n",
              "      <td>0</td>\n",
              "      <td>1</td>\n",
              "      <td>0</td>\n",
              "      <td>0</td>\n",
              "      <td>0</td>\n",
              "      <td>0</td>\n",
              "      <td>0</td>\n",
              "      <td>0</td>\n",
              "      <td>0</td>\n",
              "      <td>0</td>\n",
              "      <td>1</td>\n",
              "      <td>0</td>\n",
              "      <td>0</td>\n",
              "      <td>0</td>\n",
              "      <td>0</td>\n",
              "      <td>0</td>\n",
              "      <td>0</td>\n",
              "      <td>0</td>\n",
              "    </tr>\n",
              "    <tr>\n",
              "      <th>22166</th>\n",
              "      <td>0</td>\n",
              "      <td>0</td>\n",
              "      <td>0</td>\n",
              "      <td>0</td>\n",
              "      <td>0</td>\n",
              "      <td>0</td>\n",
              "      <td>0</td>\n",
              "      <td>0</td>\n",
              "      <td>0</td>\n",
              "      <td>23</td>\n",
              "      <td>24</td>\n",
              "      <td>32</td>\n",
              "      <td>25</td>\n",
              "      <td>24</td>\n",
              "      <td>21</td>\n",
              "      <td>13</td>\n",
              "      <td>10</td>\n",
              "      <td>15</td>\n",
              "      <td>12</td>\n",
              "      <td>13</td>\n",
              "      <td>13</td>\n",
              "      <td>12</td>\n",
              "      <td>16</td>\n",
              "      <td>11</td>\n",
              "    </tr>\n",
              "    <tr>\n",
              "      <th>22167</th>\n",
              "      <td>0</td>\n",
              "      <td>0</td>\n",
              "      <td>0</td>\n",
              "      <td>0</td>\n",
              "      <td>0</td>\n",
              "      <td>0</td>\n",
              "      <td>0</td>\n",
              "      <td>0</td>\n",
              "      <td>56</td>\n",
              "      <td>146</td>\n",
              "      <td>96</td>\n",
              "      <td>83</td>\n",
              "      <td>66</td>\n",
              "      <td>57</td>\n",
              "      <td>47</td>\n",
              "      <td>59</td>\n",
              "      <td>41</td>\n",
              "      <td>56</td>\n",
              "      <td>47</td>\n",
              "      <td>47</td>\n",
              "      <td>39</td>\n",
              "      <td>49</td>\n",
              "      <td>49</td>\n",
              "      <td>40</td>\n",
              "    </tr>\n",
              "    <tr>\n",
              "      <th>22168</th>\n",
              "      <td>2</td>\n",
              "      <td>2</td>\n",
              "      <td>1</td>\n",
              "      <td>0</td>\n",
              "      <td>0</td>\n",
              "      <td>0</td>\n",
              "      <td>0</td>\n",
              "      <td>0</td>\n",
              "      <td>1</td>\n",
              "      <td>0</td>\n",
              "      <td>0</td>\n",
              "      <td>0</td>\n",
              "      <td>0</td>\n",
              "      <td>0</td>\n",
              "      <td>0</td>\n",
              "      <td>0</td>\n",
              "      <td>0</td>\n",
              "      <td>0</td>\n",
              "      <td>0</td>\n",
              "      <td>0</td>\n",
              "      <td>0</td>\n",
              "      <td>0</td>\n",
              "      <td>0</td>\n",
              "      <td>0</td>\n",
              "    </tr>\n",
              "    <tr>\n",
              "      <th>22169</th>\n",
              "      <td>0</td>\n",
              "      <td>0</td>\n",
              "      <td>0</td>\n",
              "      <td>0</td>\n",
              "      <td>0</td>\n",
              "      <td>0</td>\n",
              "      <td>0</td>\n",
              "      <td>0</td>\n",
              "      <td>0</td>\n",
              "      <td>0</td>\n",
              "      <td>0</td>\n",
              "      <td>0</td>\n",
              "      <td>0</td>\n",
              "      <td>0</td>\n",
              "      <td>1</td>\n",
              "      <td>0</td>\n",
              "      <td>0</td>\n",
              "      <td>0</td>\n",
              "      <td>0</td>\n",
              "      <td>0</td>\n",
              "      <td>0</td>\n",
              "      <td>0</td>\n",
              "      <td>0</td>\n",
              "      <td>0</td>\n",
              "    </tr>\n",
              "  </tbody>\n",
              "</table>\n",
              "<p>19043 rows × 24 columns</p>\n",
              "</div>"
            ],
            "text/plain": [
              "               item_cnt_day                    ...                            \n",
              "date_block_num           0  1  2  3  4  5  6   ...  17  18  19  20  21  22  23\n",
              "item_id                                        ...                            \n",
              "0                         0  0  0  0  0  0  0  ...   0   0   0   1   0   0   0\n",
              "1                         0  0  0  0  0  0  0  ...   0   1   1   1   1   0   0\n",
              "2                         0  0  0  0  0  0  0  ...   0   0   1   0   0   1   0\n",
              "3                         0  0  0  0  0  0  0  ...   0   1   1   0   0   0   0\n",
              "4                         0  0  0  0  0  0  0  ...   0   0   0   1   0   0   0\n",
              "...                     ... .. .. .. .. .. ..  ...  ..  ..  ..  ..  ..  ..  ..\n",
              "22165                     0  0  0  0  0  0  0  ...   0   0   0   0   0   0   0\n",
              "22166                     0  0  0  0  0  0  0  ...  15  12  13  13  12  16  11\n",
              "22167                     0  0  0  0  0  0  0  ...  56  47  47  39  49  49  40\n",
              "22168                     2  2  1  0  0  0  0  ...   0   0   0   0   0   0   0\n",
              "22169                     0  0  0  0  0  0  0  ...   0   0   0   0   0   0   0\n",
              "\n",
              "[19043 rows x 24 columns]"
            ]
          },
          "metadata": {
            "tags": []
          },
          "execution_count": 37
        }
      ]
    },
    {
      "cell_type": "code",
      "metadata": {
        "colab": {
          "base_uri": "https://localhost:8080/",
          "height": 281
        },
        "id": "3SV0xI31c5dO",
        "outputId": "0998f62f-8d39-44fd-e2f5-b1e2cd9c3315"
      },
      "source": [
        "plt.figure(figsize = (12, 4))\n",
        "plt.plot(treino_df[[\"date\", \"item_cnt_day\"]].set_index(\"date\").resample(\"M\").sum(), label = \"Quantidade de itens\")\n",
        "plt.title(\"Vendas Totais da Empresa (Qtd)\")\n",
        "plt.legend();"
      ],
      "execution_count": 38,
      "outputs": [
        {
          "output_type": "display_data",
          "data": {
            "image/png": "[encoded data removed]",
            "text/plain": [
              "<Figure size 864x288 with 1 Axes>"
            ]
          },
          "metadata": {
            "tags": [],
            "needs_background": "light"
          }
        }
      ]
    },
    {
      "cell_type": "code",
      "metadata": {
        "colab": {
          "base_uri": "https://localhost:8080/",
          "height": 281
        },
        "id": "_-9FeKYkssmP",
        "outputId": "d2bdf9e2-e8e1-4413-84d9-870e24d0ddcc"
      },
      "source": [
        "plt.figure(figsize = (12, 4))\n",
        "plt.plot(treino_df[[\"date\", \"total_vendas\"]].set_index(\"date\").resample(\"M\").sum(), label = \"Vendas Mensais\")\n",
        "plt.title(\"Vendas Totais da Empresa (R$)\")\n",
        "plt.legend();"
      ],
      "execution_count": 39,
      "outputs": [
        {
          "output_type": "display_data",
          "data": {
            "image/png": "[encoded data removed]",
            "text/plain": [
              "<Figure size 864x288 with 1 Axes>"
            ]
          },
          "metadata": {
            "tags": [],
            "needs_background": "light"
          }
        }
      ]
    },
    {
      "cell_type": "markdown",
      "metadata": {
        "id": "HZ600AcghD0g"
      },
      "source": [
        "Componetes (tendência, sazonalidade e resíduo)"
      ]
    },
    {
      "cell_type": "code",
      "metadata": {
        "colab": {
          "base_uri": "https://localhost:8080/",
          "height": 409
        },
        "id": "PEcOzQZVhPNr",
        "outputId": "7f93825b-2602-4528-a0dd-05d47791e2ca"
      },
      "source": [
        "season = seasonal_decompose(treino_df[[\"date\", \"item_cnt_day\"]].set_index(\"date\").resample(\"M\").sum(), freq=12)\n",
        "fig = season.plot();\n",
        "fig.set_size_inches(12,6)"
      ],
      "execution_count": 40,
      "outputs": [
        {
          "output_type": "display_data",
          "data": {
            "image/png": "[encoded data removed]",
            "text/plain": [
              "<Figure size 864x432 with 4 Axes>"
            ]
          },
          "metadata": {
            "tags": [],
            "needs_background": "light"
          }
        }
      ]
    },
    {
      "cell_type": "markdown",
      "metadata": {
        "id": "WpF_XF8bl7xm"
      },
      "source": [
        "As séries temporais podem ser decompostas em 3 componente: tendência, sazonalidade e resíduo."
      ]
    },
    {
      "cell_type": "markdown",
      "metadata": {
        "id": "yasstDfdvpSa"
      },
      "source": [
        "Clara tendência de queda e sazonalidade forte em dezembro."
      ]
    },
    {
      "cell_type": "code",
      "metadata": {
        "colab": {
          "base_uri": "https://localhost:8080/",
          "height": 404
        },
        "id": "LuVF2e_WtZDA",
        "outputId": "c3d4bc7d-7b3c-428d-d244-8fc0ad01276f"
      },
      "source": [
        "season = seasonal_decompose(treino_df[[\"date\", \"total_vendas\"]].set_index(\"date\").resample(\"M\").sum(), freq=12)\n",
        "fig = season.plot();\n",
        "fig.set_size_inches(12,6)"
      ],
      "execution_count": 41,
      "outputs": [
        {
          "output_type": "display_data",
          "data": {
            "image/png": "[encoded data removed]",
            "text/plain": [
              "<Figure size 864x432 with 4 Axes>"
            ]
          },
          "metadata": {
            "tags": [],
            "needs_background": "light"
          }
        }
      ]
    },
    {
      "cell_type": "markdown",
      "metadata": {
        "id": "kTdU5J3Goa4G"
      },
      "source": [
        "Clara tendência de alta e sazonalidade forte em dezembro."
      ]
    },
    {
      "cell_type": "code",
      "metadata": {
        "colab": {
          "base_uri": "https://localhost:8080/",
          "height": 293
        },
        "id": "roay5BBmnQ_Z",
        "outputId": "b6424742-891c-49f3-f5b6-13c0798b5539"
      },
      "source": [
        "plt.figure(figsize=(12,4))\n",
        "plt.plot(treino_df[[\"date\", \"total_vendas\"]].set_index(\"date\").resample(\"M\").sum().rolling(window=12,center=False).mean(),label='Média')\n",
        "plt.legend()"
      ],
      "execution_count": 42,
      "outputs": [
        {
          "output_type": "execute_result",
          "data": {
            "text/plain": [
              "<matplotlib.legend.Legend at 0x7f089ef35410>"
            ]
          },
          "metadata": {
            "tags": []
          },
          "execution_count": 42
        },
        {
          "output_type": "display_data",
          "data": {
            "image/png": "[encoded data removed]",
            "text/plain": [
              "<Figure size 864x288 with 1 Axes>"
            ]
          },
          "metadata": {
            "tags": [],
            "needs_background": "light"
          }
        }
      ]
    },
    {
      "cell_type": "code",
      "metadata": {
        "colab": {
          "base_uri": "https://localhost:8080/",
          "height": 293
        },
        "id": "Bjb3yDY00CXp",
        "outputId": "1076e688-2dcf-4b81-d2d4-e90800884a40"
      },
      "source": [
        "plt.figure(figsize=(12,4))\n",
        "plt.plot(treino_df[[\"date\", \"total_vendas\"]].set_index(\"date\").resample(\"M\").sum().rolling(window=12,center=False).std(),label='Desvio Padrão')\n",
        "plt.legend()"
      ],
      "execution_count": 43,
      "outputs": [
        {
          "output_type": "execute_result",
          "data": {
            "text/plain": [
              "<matplotlib.legend.Legend at 0x7f0894b40d50>"
            ]
          },
          "metadata": {
            "tags": []
          },
          "execution_count": 43
        },
        {
          "output_type": "display_data",
          "data": {
            "image/png": "[encoded data removed]",
            "text/plain": [
              "<Figure size 864x288 with 1 Axes>"
            ]
          },
          "metadata": {
            "tags": [],
            "needs_background": "light"
          }
        }
      ]
    },
    {
      "cell_type": "code",
      "metadata": {
        "colab": {
          "base_uri": "https://localhost:8080/",
          "height": 310
        },
        "id": "sBssEef4uzb8",
        "outputId": "52cc01c8-08ad-4243-e44f-78df0f1a9f60"
      },
      "source": [
        "treino_df.total_vendas.diff(1).groupby(treino_df.mes).sum().plot(kind='bar', figsize=(12, 4))"
      ],
      "execution_count": 44,
      "outputs": [
        {
          "output_type": "execute_result",
          "data": {
            "text/plain": [
              "<matplotlib.axes._subplots.AxesSubplot at 0x7f0894d7b310>"
            ]
          },
          "metadata": {
            "tags": []
          },
          "execution_count": 44
        },
        {
          "output_type": "display_data",
          "data": {
            "image/png": "[encoded data removed]",
            "text/plain": [
              "<Figure size 864x288 with 1 Axes>"
            ]
          },
          "metadata": {
            "tags": [],
            "needs_background": "light"
          }
        }
      ]
    },
    {
      "cell_type": "markdown",
      "metadata": {
        "id": "-ko0bVpUMfYa"
      },
      "source": [
        "# **5. Criação de Modelos de Machine Learning**"
      ]
    },
    {
      "cell_type": "code",
      "metadata": {
        "id": "SbRfB_rTQbSV"
      },
      "source": [
        "# Criando as séries agrupadas por total de vendas\n",
        "#treino_agrupado_df = tabelao_df[(tabelao_df.date <= '31/12/2014')].groupby(['date'])['total_vendas'].sum()\n",
        "#teste_agrupado_df  = tabelao_df[(tabelao_df.date >= '01/01/2015')].groupby(['date'])['total_vendas'].sum()"
      ],
      "execution_count": 45,
      "outputs": []
    },
    {
      "cell_type": "markdown",
      "metadata": {
        "id": "RHb1scBz3cbS"
      },
      "source": [
        "## **5.1 Prophet**"
      ]
    },
    {
      "cell_type": "markdown",
      "metadata": {
        "id": "7iiCndQ0bD2S"
      },
      "source": [
        "Biblioteca do facebook gratuito para previsão de séries temporais. Trabalha bem com tendencia, sazonalidade, feriados, erros. Rápida aplicação, fácil parametrização."
      ]
    },
    {
      "cell_type": "code",
      "metadata": {
        "id": "Md_TP2gwzMPb"
      },
      "source": [
        "# Preparando os dados para rodar no prophet\n",
        "prophet_treino_df         = treino_df.groupby([\"date_block_num\"])[\"total_vendas\"].sum()\n",
        "prophet_treino_df.index   = pd.date_range(start = '2013-01-01',end='2014-12-31', freq = 'MS')\n",
        "prophet_treino_df         = prophet_treino_df.reset_index()\n",
        "prophet_treino_df.columns = ['ds','y']\n",
        "\n",
        "prophet_teste_df          = teste_df.groupby([\"date_block_num\"])[\"total_vendas\"].sum()\n",
        "prophet_teste_df.index   = pd.date_range(start = '2015-01-01',end='2015-10-31', freq = 'MS')\n",
        "prophet_teste_df         = prophet_teste_df.reset_index()\n",
        "prophet_teste_df.columns = ['ds','y']"
      ],
      "execution_count": 46,
      "outputs": []
    },
    {
      "cell_type": "code",
      "metadata": {
        "colab": {
          "base_uri": "https://localhost:8080/"
        },
        "id": "AAahhaJCNcjN",
        "outputId": "180b6918-efb6-4547-e6ad-a87ee445b952"
      },
      "source": [
        "m            = Prophet(yearly_seasonality=True) # Criando o modelo\n",
        "m.fit(prophet_treino_df)                        # realizando o treinamento\n",
        "forecast  = m.predict(prophet_teste_df)         # previsão do modelo"
      ],
      "execution_count": 47,
      "outputs": [
        {
          "output_type": "stream",
          "text": [
            "INFO:fbprophet:Disabling weekly seasonality. Run prophet with weekly_seasonality=True to override this.\n",
            "INFO:fbprophet:Disabling daily seasonality. Run prophet with daily_seasonality=True to override this.\n",
            "INFO:fbprophet:n_changepoints greater than number of observations. Using 18.\n"
          ],
          "name": "stderr"
        }
      ]
    },
    {
      "cell_type": "code",
      "metadata": {
        "colab": {
          "base_uri": "https://localhost:8080/"
        },
        "id": "LqwlXRUF9PUv",
        "outputId": "1d7b2745-09a0-4fdb-e40d-f918cf3ddec5"
      },
      "source": [
        "forecast.columns"
      ],
      "execution_count": 48,
      "outputs": [
        {
          "output_type": "execute_result",
          "data": {
            "text/plain": [
              "Index(['ds', 'trend', 'yhat_lower', 'yhat_upper', 'trend_lower', 'trend_upper',\n",
              "       'additive_terms', 'additive_terms_lower', 'additive_terms_upper',\n",
              "       'yearly', 'yearly_lower', 'yearly_upper', 'multiplicative_terms',\n",
              "       'multiplicative_terms_lower', 'multiplicative_terms_upper', 'yhat'],\n",
              "      dtype='object')"
            ]
          },
          "metadata": {
            "tags": []
          },
          "execution_count": 48
        }
      ]
    },
    {
      "cell_type": "code",
      "metadata": {
        "colab": {
          "base_uri": "https://localhost:8080/",
          "height": 204
        },
        "id": "ma9FmDyB9Qsp",
        "outputId": "eedbc5f5-595e-426e-a7e4-582a94eeb292"
      },
      "source": [
        "forecast[['ds', 'yhat', 'yhat_lower', 'yhat_upper']].tail()\n"
      ],
      "execution_count": 49,
      "outputs": [
        {
          "output_type": "execute_result",
          "data": {
            "text/html": [
              "<div>\n",
              "<style scoped>\n",
              "    .dataframe tbody tr th:only-of-type {\n",
              "        vertical-align: middle;\n",
              "    }\n",
              "\n",
              "    .dataframe tbody tr th {\n",
              "        vertical-align: top;\n",
              "    }\n",
              "\n",
              "    .dataframe thead th {\n",
              "        text-align: right;\n",
              "    }\n",
              "</style>\n",
              "<table border=\"1\" class=\"dataframe\">\n",
              "  <thead>\n",
              "    <tr style=\"text-align: right;\">\n",
              "      <th></th>\n",
              "      <th>ds</th>\n",
              "      <th>yhat</th>\n",
              "      <th>yhat_lower</th>\n",
              "      <th>yhat_upper</th>\n",
              "    </tr>\n",
              "  </thead>\n",
              "  <tbody>\n",
              "    <tr>\n",
              "      <th>5</th>\n",
              "      <td>2015-06-01</td>\n",
              "      <td>8.280696e+07</td>\n",
              "      <td>6.851384e+07</td>\n",
              "      <td>9.553524e+07</td>\n",
              "    </tr>\n",
              "    <tr>\n",
              "      <th>6</th>\n",
              "      <td>2015-07-01</td>\n",
              "      <td>8.277074e+07</td>\n",
              "      <td>6.476230e+07</td>\n",
              "      <td>9.931578e+07</td>\n",
              "    </tr>\n",
              "    <tr>\n",
              "      <th>7</th>\n",
              "      <td>2015-08-01</td>\n",
              "      <td>1.022539e+08</td>\n",
              "      <td>7.953834e+07</td>\n",
              "      <td>1.223817e+08</td>\n",
              "    </tr>\n",
              "    <tr>\n",
              "      <th>8</th>\n",
              "      <td>2015-09-01</td>\n",
              "      <td>1.070537e+08</td>\n",
              "      <td>7.868848e+07</td>\n",
              "      <td>1.309946e+08</td>\n",
              "    </tr>\n",
              "    <tr>\n",
              "      <th>9</th>\n",
              "      <td>2015-10-01</td>\n",
              "      <td>1.152552e+08</td>\n",
              "      <td>8.211039e+07</td>\n",
              "      <td>1.433719e+08</td>\n",
              "    </tr>\n",
              "  </tbody>\n",
              "</table>\n",
              "</div>"
            ],
            "text/plain": [
              "          ds          yhat    yhat_lower    yhat_upper\n",
              "5 2015-06-01  8.280696e+07  6.851384e+07  9.553524e+07\n",
              "6 2015-07-01  8.277074e+07  6.476230e+07  9.931578e+07\n",
              "7 2015-08-01  1.022539e+08  7.953834e+07  1.223817e+08\n",
              "8 2015-09-01  1.070537e+08  7.868848e+07  1.309946e+08\n",
              "9 2015-10-01  1.152552e+08  8.211039e+07  1.433719e+08"
            ]
          },
          "metadata": {
            "tags": []
          },
          "execution_count": 49
        }
      ]
    },
    {
      "cell_type": "code",
      "metadata": {
        "colab": {
          "base_uri": "https://localhost:8080/",
          "height": 441
        },
        "id": "WQVy-D27AxfH",
        "outputId": "fed3227f-72ff-4fda-be40-9bf5b7dd0e68"
      },
      "source": [
        "fig1 = m.plot(forecast)"
      ],
      "execution_count": 50,
      "outputs": [
        {
          "output_type": "display_data",
          "data": {
            "image/png": "[encoded data removed]",
            "text/plain": [
              "<Figure size 720x432 with 1 Axes>"
            ]
          },
          "metadata": {
            "tags": []
          }
        }
      ]
    },
    {
      "cell_type": "code",
      "metadata": {
        "colab": {
          "base_uri": "https://localhost:8080/",
          "height": 319
        },
        "id": "6cAvmsFEAZe7",
        "outputId": "f842ee4e-a302-49b2-945a-4f408f875966"
      },
      "source": [
        "prophet_teste_df.set_index('ds')['y'].plot(color='blue')\n",
        "forecast.set_index('ds')['yhat_lower'].plot(color='red')\n",
        "forecast.set_index('ds')['yhat'].plot(color='red')\n",
        "forecast.set_index('ds')['yhat_upper'].plot(color='red')"
      ],
      "execution_count": 51,
      "outputs": [
        {
          "output_type": "execute_result",
          "data": {
            "text/plain": [
              "<matplotlib.axes._subplots.AxesSubplot at 0x7f08929b0150>"
            ]
          },
          "metadata": {
            "tags": []
          },
          "execution_count": 51
        },
        {
          "output_type": "display_data",
          "data": {
            "image/png": "[encoded data removed]",
            "text/plain": [
              "<Figure size 432x288 with 1 Axes>"
            ]
          },
          "metadata": {
            "tags": [],
            "needs_background": "light"
          }
        }
      ]
    },
    {
      "cell_type": "code",
      "metadata": {
        "colab": {
          "base_uri": "https://localhost:8080/",
          "height": 319
        },
        "id": "0JyRw8GP_6BF",
        "outputId": "81729d1b-5159-4ae4-de80-87e69ed1f892"
      },
      "source": [
        "prophet_treino_df.set_index('ds')['y'].plot(color='blue')\n",
        "prophet_teste_df.set_index('ds')['y'].plot(color='blue')\n",
        "forecast.set_index('ds')['yhat_lower'].plot(color='red')"
      ],
      "execution_count": 52,
      "outputs": [
        {
          "output_type": "execute_result",
          "data": {
            "text/plain": [
              "<matplotlib.axes._subplots.AxesSubplot at 0x7f08929be6d0>"
            ]
          },
          "metadata": {
            "tags": []
          },
          "execution_count": 52
        },
        {
          "output_type": "display_data",
          "data": {
            "image/png": "[encoded data removed]",
            "text/plain": [
              "<Figure size 432x288 with 1 Axes>"
            ]
          },
          "metadata": {
            "tags": [],
            "needs_background": "light"
          }
        }
      ]
    },
    {
      "cell_type": "code",
      "metadata": {
        "colab": {
          "base_uri": "https://localhost:8080/"
        },
        "id": "IJigTP_7t7lf",
        "outputId": "1dd0f397-ed78-4675-e53b-510e4543cdd3"
      },
      "source": [
        "import itertools\n",
        "import numpy as np\n",
        "import pandas as pd\n",
        "\n",
        "param_grid = {  \n",
        "    'changepoint_prior_scale': [0.001, 0.01, 0.1, 0.5],\n",
        "    'seasonality_prior_scale': [0.01, 0.1, 1.0, 10.0],\n",
        "}\n",
        "\n",
        "# Generate all combinations of parameters\n",
        "all_params = [dict(zip(param_grid.keys(), v)) for v in itertools.product(*param_grid.values())]\n",
        "rmses = []  # Store the RMSEs for each params here\n",
        "\n",
        "# Use cross validation to evaluate all parameters\n",
        "for params in all_params:\n",
        "    m = Prophet('flat').fit(prophet_treino_df)  # Fit model with given params\n",
        "    df_cv = cross_validation(m, initial='0 days', period='304 days', horizon = '304 days', parallel=\"processes\")\n",
        "    df_p = performance_metrics(df_cv, rolling_window=1)\n",
        "    rmses.append(df_p['mse'].values[0])\n",
        "\n",
        "# Find the best parameters\n",
        "tuning_results = pd.DataFrame(all_params)\n",
        "tuning_results['rmse'] = rmses\n",
        "print(tuning_results)"
      ],
      "execution_count": 53,
      "outputs": [
        {
          "output_type": "stream",
          "text": [
            "INFO:fbprophet:Disabling yearly seasonality. Run prophet with yearly_seasonality=True to override this.\n",
            "INFO:fbprophet:Disabling weekly seasonality. Run prophet with weekly_seasonality=True to override this.\n",
            "INFO:fbprophet:Disabling daily seasonality. Run prophet with daily_seasonality=True to override this.\n",
            "INFO:fbprophet:n_changepoints greater than number of observations. Using 18.\n",
            "INFO:fbprophet:Making 2 forecasts with cutoffs between 2013-04-02 00:00:00 and 2014-01-31 00:00:00\n",
            "INFO:fbprophet:Applying in parallel with <concurrent.futures.process.ProcessPoolExecutor object at 0x7f08934f91d0>\n",
            "INFO:fbprophet:n_changepoints greater than number of observations. Using 2.\n",
            "INFO:fbprophet:n_changepoints greater than number of observations. Using 9.\n",
            "INFO:fbprophet:Disabling yearly seasonality. Run prophet with yearly_seasonality=True to override this.\n",
            "INFO:fbprophet:Disabling weekly seasonality. Run prophet with weekly_seasonality=True to override this.\n",
            "INFO:fbprophet:Disabling daily seasonality. Run prophet with daily_seasonality=True to override this.\n",
            "INFO:fbprophet:n_changepoints greater than number of observations. Using 18.\n",
            "INFO:fbprophet:Making 2 forecasts with cutoffs between 2013-04-02 00:00:00 and 2014-01-31 00:00:00\n",
            "INFO:fbprophet:Applying in parallel with <concurrent.futures.process.ProcessPoolExecutor object at 0x7f0892acba10>\n",
            "INFO:fbprophet:n_changepoints greater than number of observations. Using 2.\n",
            "INFO:fbprophet:n_changepoints greater than number of observations. Using 9.\n",
            "INFO:fbprophet:Disabling yearly seasonality. Run prophet with yearly_seasonality=True to override this.\n",
            "INFO:fbprophet:Disabling weekly seasonality. Run prophet with weekly_seasonality=True to override this.\n",
            "INFO:fbprophet:Disabling daily seasonality. Run prophet with daily_seasonality=True to override this.\n",
            "INFO:fbprophet:n_changepoints greater than number of observations. Using 18.\n",
            "INFO:fbprophet:Making 2 forecasts with cutoffs between 2013-04-02 00:00:00 and 2014-01-31 00:00:00\n",
            "INFO:fbprophet:Applying in parallel with <concurrent.futures.process.ProcessPoolExecutor object at 0x7f08928b2390>\n",
            "INFO:fbprophet:n_changepoints greater than number of observations. Using 2.\n",
            "INFO:fbprophet:n_changepoints greater than number of observations. Using 9.\n",
            "INFO:fbprophet:Disabling yearly seasonality. Run prophet with yearly_seasonality=True to override this.\n",
            "INFO:fbprophet:Disabling weekly seasonality. Run prophet with weekly_seasonality=True to override this.\n",
            "INFO:fbprophet:Disabling daily seasonality. Run prophet with daily_seasonality=True to override this.\n",
            "INFO:fbprophet:n_changepoints greater than number of observations. Using 18.\n",
            "INFO:fbprophet:Making 2 forecasts with cutoffs between 2013-04-02 00:00:00 and 2014-01-31 00:00:00\n",
            "INFO:fbprophet:Applying in parallel with <concurrent.futures.process.ProcessPoolExecutor object at 0x7f0892a3b650>\n",
            "INFO:fbprophet:n_changepoints greater than number of observations. Using 2.\n",
            "INFO:fbprophet:n_changepoints greater than number of observations. Using 9.\n",
            "INFO:fbprophet:Disabling yearly seasonality. Run prophet with yearly_seasonality=True to override this.\n",
            "INFO:fbprophet:Disabling weekly seasonality. Run prophet with weekly_seasonality=True to override this.\n",
            "INFO:fbprophet:Disabling daily seasonality. Run prophet with daily_seasonality=True to override this.\n",
            "INFO:fbprophet:n_changepoints greater than number of observations. Using 18.\n",
            "INFO:fbprophet:Making 2 forecasts with cutoffs between 2013-04-02 00:00:00 and 2014-01-31 00:00:00\n",
            "INFO:fbprophet:Applying in parallel with <concurrent.futures.process.ProcessPoolExecutor object at 0x7f0892ac3f90>\n",
            "INFO:fbprophet:n_changepoints greater than number of observations. Using 2.\n",
            "INFO:fbprophet:n_changepoints greater than number of observations. Using 9.\n",
            "INFO:fbprophet:Disabling yearly seasonality. Run prophet with yearly_seasonality=True to override this.\n",
            "INFO:fbprophet:Disabling weekly seasonality. Run prophet with weekly_seasonality=True to override this.\n",
            "INFO:fbprophet:Disabling daily seasonality. Run prophet with daily_seasonality=True to override this.\n",
            "INFO:fbprophet:n_changepoints greater than number of observations. Using 18.\n",
            "INFO:fbprophet:Making 2 forecasts with cutoffs between 2013-04-02 00:00:00 and 2014-01-31 00:00:00\n",
            "INFO:fbprophet:Applying in parallel with <concurrent.futures.process.ProcessPoolExecutor object at 0x7f0894d2a7d0>\n",
            "INFO:fbprophet:n_changepoints greater than number of observations. Using 2.\n",
            "INFO:fbprophet:n_changepoints greater than number of observations. Using 9.\n",
            "INFO:fbprophet:Disabling yearly seasonality. Run prophet with yearly_seasonality=True to override this.\n",
            "INFO:fbprophet:Disabling weekly seasonality. Run prophet with weekly_seasonality=True to override this.\n",
            "INFO:fbprophet:Disabling daily seasonality. Run prophet with daily_seasonality=True to override this.\n",
            "INFO:fbprophet:n_changepoints greater than number of observations. Using 18.\n",
            "INFO:fbprophet:Making 2 forecasts with cutoffs between 2013-04-02 00:00:00 and 2014-01-31 00:00:00\n",
            "INFO:fbprophet:Applying in parallel with <concurrent.futures.process.ProcessPoolExecutor object at 0x7f0893439250>\n",
            "INFO:fbprophet:n_changepoints greater than number of observations. Using 2.\n",
            "INFO:fbprophet:n_changepoints greater than number of observations. Using 9.\n",
            "INFO:fbprophet:Disabling yearly seasonality. Run prophet with yearly_seasonality=True to override this.\n",
            "INFO:fbprophet:Disabling weekly seasonality. Run prophet with weekly_seasonality=True to override this.\n",
            "INFO:fbprophet:Disabling daily seasonality. Run prophet with daily_seasonality=True to override this.\n",
            "INFO:fbprophet:n_changepoints greater than number of observations. Using 18.\n",
            "INFO:fbprophet:Making 2 forecasts with cutoffs between 2013-04-02 00:00:00 and 2014-01-31 00:00:00\n",
            "INFO:fbprophet:Applying in parallel with <concurrent.futures.process.ProcessPoolExecutor object at 0x7f08933fef50>\n",
            "INFO:fbprophet:n_changepoints greater than number of observations. Using 2.\n",
            "INFO:fbprophet:n_changepoints greater than number of observations. Using 9.\n",
            "INFO:fbprophet:Disabling yearly seasonality. Run prophet with yearly_seasonality=True to override this.\n",
            "INFO:fbprophet:Disabling weekly seasonality. Run prophet with weekly_seasonality=True to override this.\n",
            "INFO:fbprophet:Disabling daily seasonality. Run prophet with daily_seasonality=True to override this.\n",
            "INFO:fbprophet:n_changepoints greater than number of observations. Using 18.\n",
            "INFO:fbprophet:Making 2 forecasts with cutoffs between 2013-04-02 00:00:00 and 2014-01-31 00:00:00\n",
            "INFO:fbprophet:Applying in parallel with <concurrent.futures.process.ProcessPoolExecutor object at 0x7f0892adc4d0>\n",
            "INFO:fbprophet:n_changepoints greater than number of observations. Using 2.\n",
            "INFO:fbprophet:n_changepoints greater than number of observations. Using 9.\n",
            "INFO:fbprophet:Disabling yearly seasonality. Run prophet with yearly_seasonality=True to override this.\n",
            "INFO:fbprophet:Disabling weekly seasonality. Run prophet with weekly_seasonality=True to override this.\n",
            "INFO:fbprophet:Disabling daily seasonality. Run prophet with daily_seasonality=True to override this.\n",
            "INFO:fbprophet:n_changepoints greater than number of observations. Using 18.\n",
            "INFO:fbprophet:Making 2 forecasts with cutoffs between 2013-04-02 00:00:00 and 2014-01-31 00:00:00\n",
            "INFO:fbprophet:Applying in parallel with <concurrent.futures.process.ProcessPoolExecutor object at 0x7f0892ac3710>\n",
            "INFO:fbprophet:n_changepoints greater than number of observations. Using 2.\n",
            "INFO:fbprophet:n_changepoints greater than number of observations. Using 9.\n",
            "INFO:fbprophet:Disabling yearly seasonality. Run prophet with yearly_seasonality=True to override this.\n",
            "INFO:fbprophet:Disabling weekly seasonality. Run prophet with weekly_seasonality=True to override this.\n",
            "INFO:fbprophet:Disabling daily seasonality. Run prophet with daily_seasonality=True to override this.\n",
            "INFO:fbprophet:n_changepoints greater than number of observations. Using 18.\n",
            "INFO:fbprophet:Making 2 forecasts with cutoffs between 2013-04-02 00:00:00 and 2014-01-31 00:00:00\n",
            "INFO:fbprophet:Applying in parallel with <concurrent.futures.process.ProcessPoolExecutor object at 0x7f0892a56590>\n",
            "INFO:fbprophet:n_changepoints greater than number of observations. Using 2.\n",
            "INFO:fbprophet:n_changepoints greater than number of observations. Using 9.\n",
            "INFO:fbprophet:Disabling yearly seasonality. Run prophet with yearly_seasonality=True to override this.\n",
            "INFO:fbprophet:Disabling weekly seasonality. Run prophet with weekly_seasonality=True to override this.\n",
            "INFO:fbprophet:Disabling daily seasonality. Run prophet with daily_seasonality=True to override this.\n",
            "INFO:fbprophet:n_changepoints greater than number of observations. Using 18.\n",
            "INFO:fbprophet:Making 2 forecasts with cutoffs between 2013-04-02 00:00:00 and 2014-01-31 00:00:00\n",
            "INFO:fbprophet:Applying in parallel with <concurrent.futures.process.ProcessPoolExecutor object at 0x7f089ee14a10>\n",
            "INFO:fbprophet:n_changepoints greater than number of observations. Using 2.\n",
            "INFO:fbprophet:n_changepoints greater than number of observations. Using 9.\n",
            "INFO:fbprophet:Disabling yearly seasonality. Run prophet with yearly_seasonality=True to override this.\n",
            "INFO:fbprophet:Disabling weekly seasonality. Run prophet with weekly_seasonality=True to override this.\n",
            "INFO:fbprophet:Disabling daily seasonality. Run prophet with daily_seasonality=True to override this.\n",
            "INFO:fbprophet:n_changepoints greater than number of observations. Using 18.\n",
            "INFO:fbprophet:Making 2 forecasts with cutoffs between 2013-04-02 00:00:00 and 2014-01-31 00:00:00\n",
            "INFO:fbprophet:Applying in parallel with <concurrent.futures.process.ProcessPoolExecutor object at 0x7f0892adc4d0>\n",
            "INFO:fbprophet:n_changepoints greater than number of observations. Using 2.\n",
            "INFO:fbprophet:n_changepoints greater than number of observations. Using 9.\n",
            "INFO:fbprophet:Disabling yearly seasonality. Run prophet with yearly_seasonality=True to override this.\n",
            "INFO:fbprophet:Disabling weekly seasonality. Run prophet with weekly_seasonality=True to override this.\n",
            "INFO:fbprophet:Disabling daily seasonality. Run prophet with daily_seasonality=True to override this.\n",
            "INFO:fbprophet:n_changepoints greater than number of observations. Using 18.\n",
            "INFO:fbprophet:Making 2 forecasts with cutoffs between 2013-04-02 00:00:00 and 2014-01-31 00:00:00\n",
            "INFO:fbprophet:Applying in parallel with <concurrent.futures.process.ProcessPoolExecutor object at 0x7f08928ea3d0>\n",
            "INFO:fbprophet:n_changepoints greater than number of observations. Using 2.\n",
            "INFO:fbprophet:n_changepoints greater than number of observations. Using 9.\n",
            "INFO:fbprophet:Disabling yearly seasonality. Run prophet with yearly_seasonality=True to override this.\n",
            "INFO:fbprophet:Disabling weekly seasonality. Run prophet with weekly_seasonality=True to override this.\n",
            "INFO:fbprophet:Disabling daily seasonality. Run prophet with daily_seasonality=True to override this.\n",
            "INFO:fbprophet:n_changepoints greater than number of observations. Using 18.\n",
            "INFO:fbprophet:Making 2 forecasts with cutoffs between 2013-04-02 00:00:00 and 2014-01-31 00:00:00\n",
            "INFO:fbprophet:Applying in parallel with <concurrent.futures.process.ProcessPoolExecutor object at 0x7f08928cf6d0>\n",
            "INFO:fbprophet:n_changepoints greater than number of observations. Using 2.\n",
            "INFO:fbprophet:n_changepoints greater than number of observations. Using 9.\n",
            "INFO:fbprophet:Disabling yearly seasonality. Run prophet with yearly_seasonality=True to override this.\n",
            "INFO:fbprophet:Disabling weekly seasonality. Run prophet with weekly_seasonality=True to override this.\n",
            "INFO:fbprophet:Disabling daily seasonality. Run prophet with daily_seasonality=True to override this.\n",
            "INFO:fbprophet:n_changepoints greater than number of observations. Using 18.\n",
            "INFO:fbprophet:Making 2 forecasts with cutoffs between 2013-04-02 00:00:00 and 2014-01-31 00:00:00\n",
            "INFO:fbprophet:Applying in parallel with <concurrent.futures.process.ProcessPoolExecutor object at 0x7f0892800350>\n",
            "INFO:fbprophet:n_changepoints greater than number of observations. Using 2.\n",
            "INFO:fbprophet:n_changepoints greater than number of observations. Using 9.\n"
          ],
          "name": "stderr"
        },
        {
          "output_type": "stream",
          "text": [
            "    changepoint_prior_scale  seasonality_prior_scale          rmse\n",
            "0                     0.001                     0.01  2.044762e+15\n",
            "1                     0.001                     0.10  2.044762e+15\n",
            "2                     0.001                     1.00  2.044762e+15\n",
            "3                     0.001                    10.00  2.044762e+15\n",
            "4                     0.010                     0.01  2.044762e+15\n",
            "5                     0.010                     0.10  2.044762e+15\n",
            "6                     0.010                     1.00  2.044762e+15\n",
            "7                     0.010                    10.00  2.044762e+15\n",
            "8                     0.100                     0.01  2.044762e+15\n",
            "9                     0.100                     0.10  2.044762e+15\n",
            "10                    0.100                     1.00  2.044762e+15\n",
            "11                    0.100                    10.00  2.044762e+15\n",
            "12                    0.500                     0.01  2.044762e+15\n",
            "13                    0.500                     0.10  2.044762e+15\n",
            "14                    0.500                     1.00  2.044762e+15\n",
            "15                    0.500                    10.00  2.044762e+15\n"
          ],
          "name": "stdout"
        }
      ]
    },
    {
      "cell_type": "code",
      "metadata": {
        "colab": {
          "base_uri": "https://localhost:8080/"
        },
        "id": "TRJc_Eh4ZNGs",
        "outputId": "505c2704-c3e7-4f7e-8afd-4241a6382050"
      },
      "source": [
        "best_params = all_params[np.argmin(rmses)]\n",
        "print(best_params)"
      ],
      "execution_count": 54,
      "outputs": [
        {
          "output_type": "stream",
          "text": [
            "{'changepoint_prior_scale': 0.001, 'seasonality_prior_scale': 0.01}\n"
          ],
          "name": "stdout"
        }
      ]
    },
    {
      "cell_type": "markdown",
      "metadata": {
        "id": "lJcpZXEEMDUZ"
      },
      "source": [
        "**Previsão diárizada**"
      ]
    },
    {
      "cell_type": "code",
      "metadata": {
        "id": "vBvaBc-3qFMe"
      },
      "source": [
        "# Preparando os dados para rodar no prophet\n",
        "prophet_treino_df2         = treino_df.groupby([\"date\"])[\"total_vendas\"].sum()\n",
        "prophet_teste_df2          = teste_df.groupby([\"date\"])[\"total_vendas\"].sum()\n",
        "prophet_treino_df2.index   = pd.date_range(start = '2013-01-01',end='2014-12-31')\n",
        "prophet_treino_df2         = prophet_treino_df2.reset_index()\n",
        "prophet_treino_df2.columns = ['ds','y']\n",
        "prophet_teste_df2.index   = pd.date_range(start = '2015-01-01',end='2015-10-31')\n",
        "prophet_teste_df2         = prophet_teste_df2.reset_index()\n",
        "prophet_teste_df2.columns = ['ds','y']"
      ],
      "execution_count": 55,
      "outputs": []
    },
    {
      "cell_type": "code",
      "metadata": {
        "colab": {
          "base_uri": "https://localhost:8080/",
          "height": 230
        },
        "id": "zvlNaglyqVyL",
        "outputId": "0043f6e3-f096-4965-936f-50962636b63f"
      },
      "source": [
        "#m = Prophet(changepoint_prior_scale=0.08)# instanciando o modelo\n",
        "m2            = Prophet(yearly_seasonality=True)\n",
        "m2.fit(prophet_treino_df2) # realizando o treinamento\n",
        "#futuro            = modelo.make_future_dataframe(periods = 12, freq = 'MS', include_history=True) # método auxiliar para previsão\n",
        "forecast2  = m2.predict(prophet_teste_df2) # previsão do modelo\n",
        "forecast2.tail(3)"
      ],
      "execution_count": 56,
      "outputs": [
        {
          "output_type": "stream",
          "text": [
            "INFO:fbprophet:Disabling daily seasonality. Run prophet with daily_seasonality=True to override this.\n"
          ],
          "name": "stderr"
        },
        {
          "output_type": "execute_result",
          "data": {
            "text/html": [
              "<div>\n",
              "<style scoped>\n",
              "    .dataframe tbody tr th:only-of-type {\n",
              "        vertical-align: middle;\n",
              "    }\n",
              "\n",
              "    .dataframe tbody tr th {\n",
              "        vertical-align: top;\n",
              "    }\n",
              "\n",
              "    .dataframe thead th {\n",
              "        text-align: right;\n",
              "    }\n",
              "</style>\n",
              "<table border=\"1\" class=\"dataframe\">\n",
              "  <thead>\n",
              "    <tr style=\"text-align: right;\">\n",
              "      <th></th>\n",
              "      <th>ds</th>\n",
              "      <th>trend</th>\n",
              "      <th>yhat_lower</th>\n",
              "      <th>yhat_upper</th>\n",
              "      <th>trend_lower</th>\n",
              "      <th>trend_upper</th>\n",
              "      <th>additive_terms</th>\n",
              "      <th>additive_terms_lower</th>\n",
              "      <th>additive_terms_upper</th>\n",
              "      <th>weekly</th>\n",
              "      <th>weekly_lower</th>\n",
              "      <th>weekly_upper</th>\n",
              "      <th>yearly</th>\n",
              "      <th>yearly_lower</th>\n",
              "      <th>yearly_upper</th>\n",
              "      <th>multiplicative_terms</th>\n",
              "      <th>multiplicative_terms_lower</th>\n",
              "      <th>multiplicative_terms_upper</th>\n",
              "      <th>yhat</th>\n",
              "    </tr>\n",
              "  </thead>\n",
              "  <tbody>\n",
              "    <tr>\n",
              "      <th>301</th>\n",
              "      <td>2015-10-29</td>\n",
              "      <td>5.217934e+06</td>\n",
              "      <td>1.557823e+06</td>\n",
              "      <td>6.067606e+06</td>\n",
              "      <td>5.091528e+06</td>\n",
              "      <td>5.362636e+06</td>\n",
              "      <td>-1.390023e+06</td>\n",
              "      <td>-1.390023e+06</td>\n",
              "      <td>-1.390023e+06</td>\n",
              "      <td>-3.586544e+05</td>\n",
              "      <td>-3.586544e+05</td>\n",
              "      <td>-3.586544e+05</td>\n",
              "      <td>-1.031369e+06</td>\n",
              "      <td>-1.031369e+06</td>\n",
              "      <td>-1.031369e+06</td>\n",
              "      <td>0.0</td>\n",
              "      <td>0.0</td>\n",
              "      <td>0.0</td>\n",
              "      <td>3.827911e+06</td>\n",
              "    </tr>\n",
              "    <tr>\n",
              "      <th>302</th>\n",
              "      <td>2015-10-30</td>\n",
              "      <td>5.221129e+06</td>\n",
              "      <td>2.486336e+06</td>\n",
              "      <td>7.021518e+06</td>\n",
              "      <td>5.094254e+06</td>\n",
              "      <td>5.366061e+06</td>\n",
              "      <td>-4.083247e+05</td>\n",
              "      <td>-4.083247e+05</td>\n",
              "      <td>-4.083247e+05</td>\n",
              "      <td>5.590281e+05</td>\n",
              "      <td>5.590281e+05</td>\n",
              "      <td>5.590281e+05</td>\n",
              "      <td>-9.673528e+05</td>\n",
              "      <td>-9.673528e+05</td>\n",
              "      <td>-9.673528e+05</td>\n",
              "      <td>0.0</td>\n",
              "      <td>0.0</td>\n",
              "      <td>0.0</td>\n",
              "      <td>4.812805e+06</td>\n",
              "    </tr>\n",
              "    <tr>\n",
              "      <th>303</th>\n",
              "      <td>2015-10-31</td>\n",
              "      <td>5.224325e+06</td>\n",
              "      <td>3.060623e+06</td>\n",
              "      <td>7.997320e+06</td>\n",
              "      <td>5.096980e+06</td>\n",
              "      <td>5.369780e+06</td>\n",
              "      <td>3.370233e+05</td>\n",
              "      <td>3.370233e+05</td>\n",
              "      <td>3.370233e+05</td>\n",
              "      <td>1.220605e+06</td>\n",
              "      <td>1.220605e+06</td>\n",
              "      <td>1.220605e+06</td>\n",
              "      <td>-8.835822e+05</td>\n",
              "      <td>-8.835822e+05</td>\n",
              "      <td>-8.835822e+05</td>\n",
              "      <td>0.0</td>\n",
              "      <td>0.0</td>\n",
              "      <td>0.0</td>\n",
              "      <td>5.561348e+06</td>\n",
              "    </tr>\n",
              "  </tbody>\n",
              "</table>\n",
              "</div>"
            ],
            "text/plain": [
              "            ds         trend  ...  multiplicative_terms_upper          yhat\n",
              "301 2015-10-29  5.217934e+06  ...                         0.0  3.827911e+06\n",
              "302 2015-10-30  5.221129e+06  ...                         0.0  4.812805e+06\n",
              "303 2015-10-31  5.224325e+06  ...                         0.0  5.561348e+06\n",
              "\n",
              "[3 rows x 19 columns]"
            ]
          },
          "metadata": {
            "tags": []
          },
          "execution_count": 56
        }
      ]
    },
    {
      "cell_type": "code",
      "metadata": {
        "colab": {
          "base_uri": "https://localhost:8080/",
          "height": 319
        },
        "id": "oakSQaeq202j",
        "outputId": "e60fcce3-ac5c-49e7-90b6-504f2a27d106"
      },
      "source": [
        "#prophet_treino_df2.set_index('ds')['y'].plot(color='blue')\n",
        "prophet_teste_df2.set_index('ds')['y'].plot(color='blue')\n",
        "forecast2.set_index('ds')['yhat_lower'].plot(color='red')\n",
        "#forecast2.set_index('ds')['yhat'].plot(color='red')\n",
        "#forecast2.set_index('ds')['yhat_upper'].plot(color='red')"
      ],
      "execution_count": 57,
      "outputs": [
        {
          "output_type": "execute_result",
          "data": {
            "text/plain": [
              "<matplotlib.axes._subplots.AxesSubplot at 0x7f089294e810>"
            ]
          },
          "metadata": {
            "tags": []
          },
          "execution_count": 57
        },
        {
          "output_type": "display_data",
          "data": {
            "image/png": "[encoded data removed]",
            "text/plain": [
              "<Figure size 432x288 with 1 Axes>"
            ]
          },
          "metadata": {
            "tags": [],
            "needs_background": "light"
          }
        }
      ]
    },
    {
      "cell_type": "markdown",
      "metadata": {
        "id": "VAmTkRD_MsFN"
      },
      "source": [
        "# **6. Apresentação dos Resultados**"
      ]
    },
    {
      "cell_type": "code",
      "metadata": {
        "colab": {
          "base_uri": "https://localhost:8080/",
          "height": 525
        },
        "id": "hlVua8oWQ0Py",
        "outputId": "5f524fad-7fa3-4e91-e46d-115028b77ff2"
      },
      "source": [
        "data = tabelao_df.groupby(\n",
        "    ['ano','mes']).agg({'total_vendas': np.sum}).reset_index().pivot(\n",
        "    index='mes', columns='ano', values='total_vendas')\n",
        "data.plot(figsize=(12, 8))"
      ],
      "execution_count": 58,
      "outputs": [
        {
          "output_type": "execute_result",
          "data": {
            "text/plain": [
              "<matplotlib.axes._subplots.AxesSubplot at 0x7f0892436090>"
            ]
          },
          "metadata": {
            "tags": []
          },
          "execution_count": 58
        },
        {
          "output_type": "display_data",
          "data": {
            "image/png": "[encoded data removed]",
            "text/plain": [
              "<Figure size 864x576 with 1 Axes>"
            ]
          },
          "metadata": {
            "tags": [],
            "needs_background": "light"
          }
        }
      ]
    },
    {
      "cell_type": "code",
      "metadata": {
        "colab": {
          "base_uri": "https://localhost:8080/",
          "height": 404
        },
        "id": "yWOB9Gf4QVE4",
        "outputId": "4a722027-8d18-4492-eb55-2627ca74e077"
      },
      "source": [
        "season = seasonal_decompose(tabelao_df[[\"date\", \"total_vendas\"]].set_index(\"date\").resample(\"M\").sum(), freq=12)\n",
        "fig = season.plot();\n",
        "fig.set_size_inches(12,6)"
      ],
      "execution_count": 59,
      "outputs": [
        {
          "output_type": "display_data",
          "data": {
            "image/png": "[encoded data removed]",
            "text/plain": [
              "<Figure size 864x432 with 4 Axes>"
            ]
          },
          "metadata": {
            "tags": [],
            "needs_background": "light"
          }
        }
      ]
    },
    {
      "cell_type": "code",
      "metadata": {
        "colab": {
          "base_uri": "https://localhost:8080/",
          "height": 241
        },
        "id": "ByzNZKb3wNdB",
        "outputId": "0dba1692-5b7f-4552-a775-b27d0f9f8176"
      },
      "source": [
        " tabelao_df[(tabelao_df.date > '01/01/2015') & (tabelao_df.date > '31/01/2014')& (tabelao_df.total_vendas > 1000000)]"
      ],
      "execution_count": 60,
      "outputs": [
        {
          "output_type": "execute_result",
          "data": {
            "text/html": [
              "<div>\n",
              "<style scoped>\n",
              "    .dataframe tbody tr th:only-of-type {\n",
              "        vertical-align: middle;\n",
              "    }\n",
              "\n",
              "    .dataframe tbody tr th {\n",
              "        vertical-align: top;\n",
              "    }\n",
              "\n",
              "    .dataframe thead th {\n",
              "        text-align: right;\n",
              "    }\n",
              "</style>\n",
              "<table border=\"1\" class=\"dataframe\">\n",
              "  <thead>\n",
              "    <tr style=\"text-align: right;\">\n",
              "      <th></th>\n",
              "      <th>date</th>\n",
              "      <th>date_block_num</th>\n",
              "      <th>shop_id</th>\n",
              "      <th>item_id</th>\n",
              "      <th>item_price</th>\n",
              "      <th>item_cnt_day</th>\n",
              "      <th>ano</th>\n",
              "      <th>mes</th>\n",
              "      <th>dia</th>\n",
              "      <th>total_vendas</th>\n",
              "      <th>item_category_id</th>\n",
              "      <th>item_category_name_pt</th>\n",
              "      <th>shop_name_pt</th>\n",
              "    </tr>\n",
              "  </thead>\n",
              "  <tbody>\n",
              "    <tr>\n",
              "      <th>2452606</th>\n",
              "      <td>2015-04-14</td>\n",
              "      <td>27</td>\n",
              "      <td>12</td>\n",
              "      <td>3731</td>\n",
              "      <td>1904.548077</td>\n",
              "      <td>624.0</td>\n",
              "      <td>2015</td>\n",
              "      <td>4</td>\n",
              "      <td>14</td>\n",
              "      <td>1.188438e+06</td>\n",
              "      <td>30</td>\n",
              "      <td>Jogos para PC - edições padrão</td>\n",
              "      <td>Loja online de situações de emergência</td>\n",
              "    </tr>\n",
              "    <tr>\n",
              "      <th>2453095</th>\n",
              "      <td>2015-09-30</td>\n",
              "      <td>32</td>\n",
              "      <td>12</td>\n",
              "      <td>9248</td>\n",
              "      <td>1692.526158</td>\n",
              "      <td>669.0</td>\n",
              "      <td>2015</td>\n",
              "      <td>9</td>\n",
              "      <td>30</td>\n",
              "      <td>1.132300e+06</td>\n",
              "      <td>80</td>\n",
              "      <td>Serviço - Ingressos</td>\n",
              "      <td>Loja online de situações de emergência</td>\n",
              "    </tr>\n",
              "    <tr>\n",
              "      <th>2453302</th>\n",
              "      <td>2015-05-19</td>\n",
              "      <td>28</td>\n",
              "      <td>12</td>\n",
              "      <td>10212</td>\n",
              "      <td>8499.000000</td>\n",
              "      <td>140.0</td>\n",
              "      <td>2015</td>\n",
              "      <td>5</td>\n",
              "      <td>19</td>\n",
              "      <td>1.189860e+06</td>\n",
              "      <td>29</td>\n",
              "      <td>Jogos para PC - Edições de colecionador</td>\n",
              "      <td>Loja online de situações de emergência</td>\n",
              "    </tr>\n",
              "    <tr>\n",
              "      <th>2926722</th>\n",
              "      <td>2015-09-30</td>\n",
              "      <td>32</td>\n",
              "      <td>55</td>\n",
              "      <td>9249</td>\n",
              "      <td>1702.825746</td>\n",
              "      <td>637.0</td>\n",
              "      <td>2015</td>\n",
              "      <td>9</td>\n",
              "      <td>30</td>\n",
              "      <td>1.084700e+06</td>\n",
              "      <td>8</td>\n",
              "      <td>Ingressos (número)</td>\n",
              "      <td>Armazém digital 1C-Online</td>\n",
              "    </tr>\n",
              "  </tbody>\n",
              "</table>\n",
              "</div>"
            ],
            "text/plain": [
              "              date  ...                            shop_name_pt\n",
              "2452606 2015-04-14  ...  Loja online de situações de emergência\n",
              "2453095 2015-09-30  ...  Loja online de situações de emergência\n",
              "2453302 2015-05-19  ...  Loja online de situações de emergência\n",
              "2926722 2015-09-30  ...               Armazém digital 1C-Online\n",
              "\n",
              "[4 rows x 13 columns]"
            ]
          },
          "metadata": {
            "tags": []
          },
          "execution_count": 60
        }
      ]
    },
    {
      "cell_type": "code",
      "metadata": {
        "colab": {
          "base_uri": "https://localhost:8080/"
        },
        "id": "hbNPJ8F5VmYM",
        "outputId": "f24ef998-306d-4197-f7bc-41e2692b9c40"
      },
      "source": [
        "lojas_sem_vendas_2015 = tabelao_df.groupby([\"date_block_num\",'shop_id'])[\"item_cnt_day\"].sum()\n",
        "lojas_sem_vendas_2015=lojas_sem_vendas_2015.unstack(level=1)\n",
        "lojas_sem_vendas_2015=lojas_sem_vendas_2015.fillna(0)\n",
        "lojas_sem_vendas_2015=(lojas_sem_vendas_2015[24:]==0).all()\n",
        "lojas_sem_vendas_2015=np.array(lojas_sem_vendas_2015.index[lojas_sem_vendas_2015==True])\n",
        "list(lojas_sem_vendas_2015)"
      ],
      "execution_count": 61,
      "outputs": [
        {
          "output_type": "execute_result",
          "data": {
            "text/plain": [
              "[8, 13, 23, 32]"
            ]
          },
          "metadata": {
            "tags": []
          },
          "execution_count": 61
        }
      ]
    },
    {
      "cell_type": "code",
      "metadata": {
        "colab": {
          "base_uri": "https://localhost:8080/",
          "height": 337
        },
        "id": "NlcaWWteRTjN",
        "outputId": "b0d0bea9-2de0-4379-e1db-0e8e097c81db"
      },
      "source": [
        "fig, ax = plt.subplots(figsize=(15,5))\n",
        "sns.countplot(x='shop_id', hue='ano'\n",
        "              ,data =  tabelao_df[(tabelao_df.mes <= 10)], ax=ax)\n",
        "plt.xticks(rotation=90);"
      ],
      "execution_count": 62,
      "outputs": [
        {
          "output_type": "display_data",
          "data": {
            "image/png": "[encoded data removed]",
            "text/plain": [
              "<Figure size 1080x360 with 1 Axes>"
            ]
          },
          "metadata": {
            "tags": [],
            "needs_background": "light"
          }
        }
      ]
    },
    {
      "cell_type": "code",
      "metadata": {
        "colab": {
          "base_uri": "https://localhost:8080/",
          "height": 564
        },
        "id": "FPhQ8iKMRZlO",
        "outputId": "7c319cc6-eac5-4cda-cafb-0d528dcce70c"
      },
      "source": [
        "fig, ax = plt.subplots(figsize=(15,5))\n",
        "sns.countplot(x='item_category_name_pt', hue='ano'\n",
        "              ,data = tabelao_df, ax=ax)\n",
        "plt.xticks(rotation=90);"
      ],
      "execution_count": 63,
      "outputs": [
        {
          "output_type": "display_data",
          "data": {
            "image/png": "[encoded data removed]",
            "text/plain": [
              "<Figure size 1080x360 with 1 Axes>"
            ]
          },
          "metadata": {
            "tags": [],
            "needs_background": "light"
          }
        }
      ]
    }
  ]
}